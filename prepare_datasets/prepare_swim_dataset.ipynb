{
 "cells": [
  {
   "cell_type": "code",
   "execution_count": 1,
   "id": "a02338ff",
   "metadata": {},
   "outputs": [],
   "source": [
    "import pyspark"
   ]
  },
  {
   "cell_type": "code",
   "execution_count": 2,
   "id": "6af0fdaf",
   "metadata": {},
   "outputs": [],
   "source": [
    "spark = pyspark.sql.SparkSession.builder.appName(\"Strava Analysis\").getOrCreate()"
   ]
  },
  {
   "cell_type": "code",
   "execution_count": 3,
   "id": "a319cb59",
   "metadata": {},
   "outputs": [],
   "source": [
    "raw_swim_df = spark.read.csv(\"../data/raw/raw_swim_data.csv\", header=True, inferSchema=True)"
   ]
  },
  {
   "cell_type": "code",
   "execution_count": 4,
   "id": "3a239bc2",
   "metadata": {},
   "outputs": [],
   "source": [
    "raw_swim_df = raw_swim_df.withColumn('Max Pace', 1/(raw_swim_df['Max Speed']*60/1000)/10) \\\n",
    "    .withColumn('Average Pace', 1/(raw_swim_df['Average Speed']*60/1000)/10)"
   ]
  },
  {
   "cell_type": "code",
   "execution_count": 5,
   "id": "03ac6a8f",
   "metadata": {},
   "outputs": [],
   "source": [
    "raw_swim_df.toPandas().to_csv('../data/final/strava_swim_activities.csv', index=False)"
   ]
  }
 ],
 "metadata": {
  "kernelspec": {
   "display_name": ".venv",
   "language": "python",
   "name": "python3"
  },
  "language_info": {
   "codemirror_mode": {
    "name": "ipython",
    "version": 3
   },
   "file_extension": ".py",
   "mimetype": "text/x-python",
   "name": "python",
   "nbconvert_exporter": "python",
   "pygments_lexer": "ipython3",
   "version": "3.12.0"
  }
 },
 "nbformat": 4,
 "nbformat_minor": 5
}
