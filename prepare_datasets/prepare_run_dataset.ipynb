{
 "cells": [
  {
   "cell_type": "code",
   "execution_count": 1,
   "id": "1ea19c85",
   "metadata": {},
   "outputs": [],
   "source": [
    "import pyspark"
   ]
  },
  {
   "cell_type": "code",
   "execution_count": 2,
   "id": "f290652b",
   "metadata": {},
   "outputs": [],
   "source": [
    "spark = pyspark.sql.SparkSession.builder.appName(\"Strava Analysis\").getOrCreate()"
   ]
  },
  {
   "cell_type": "code",
   "execution_count": 5,
   "id": "7e9fc216",
   "metadata": {},
   "outputs": [],
   "source": [
    "raw_run_df = spark.read.csv(\"../data/raw/raw_run_data.csv\", header=True, inferSchema=True)"
   ]
  },
  {
   "cell_type": "code",
   "execution_count": null,
   "id": "64356c79",
   "metadata": {},
   "outputs": [],
   "source": [
    "raw_run_df = raw_run_df.withColumn('Max Pace', 1/(raw_run_df['Max Speed']*60/1000)) \\\n",
    "    .withColumn('Average Pace', 1/(raw_run_df['Average Speed']*60/1000))"
   ]
  },
  {
   "cell_type": "code",
   "execution_count": 8,
   "id": "d75702ba",
   "metadata": {},
   "outputs": [],
   "source": [
    "raw_run_df.toPandas().to_csv('../data/final/strava_run_activities.csv', index=False)"
   ]
  }
 ],
 "metadata": {
  "kernelspec": {
   "display_name": ".venv",
   "language": "python",
   "name": "python3"
  },
  "language_info": {
   "codemirror_mode": {
    "name": "ipython",
    "version": 3
   },
   "file_extension": ".py",
   "mimetype": "text/x-python",
   "name": "python",
   "nbconvert_exporter": "python",
   "pygments_lexer": "ipython3",
   "version": "3.12.0"
  }
 },
 "nbformat": 4,
 "nbformat_minor": 5
}
