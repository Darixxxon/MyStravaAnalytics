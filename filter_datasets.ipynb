{
 "cells": [
  {
   "cell_type": "code",
   "execution_count": 1,
   "id": "570262d8",
   "metadata": {},
   "outputs": [],
   "source": [
    "import pyspark"
   ]
  },
  {
   "cell_type": "code",
   "execution_count": 2,
   "id": "199227a2",
   "metadata": {},
   "outputs": [],
   "source": [
    "spark = pyspark.sql.SparkSession.builder.appName(\"Strava Analysis\").getOrCreate()"
   ]
  },
  {
   "cell_type": "code",
   "execution_count": 3,
   "id": "c9c568d0",
   "metadata": {},
   "outputs": [],
   "source": [
    "activites_df = spark.read.csv(\"data/activities.csv\", header=True, inferSchema=True)"
   ]
  },
  {
   "cell_type": "code",
   "execution_count": 4,
   "id": "5fbc02fc",
   "metadata": {},
   "outputs": [
    {
     "name": "stdout",
     "output_type": "stream",
     "text": [
      "+-----------+--------------------+--------------------+-----------------+--------------------+-------------+---------+---------------+----------------+--------+---------------------+--------------------+--------------------+--------------+-----------+--------------+-----------+----------+---------+-------------+--------------+--------------+-------------+--------------+---------+-------------+----------------------+----------------------+-----------+---------------+----------------+------------------+---------+-------------+--------+---------------+-------------------+-----------------+----------+--------------+-----------+-------------+----------+------------------+----+----------+----------------------+-----------+-------------------------+-------------------------+---------+-------------------+-----------+-----------------------+------------------------+-----------------+-------------------+--------------------+--------+--------+----------------+----------+---------+------------+-----------------------+------------+-----------+----------+-----------+-----------+-------------------------+------------------+-----------+------------------+--------+-------------+----------+----------+------------+-------+---------------------+-------------+-----------------------+----------------------------+--------------+-----------+------------+-----------+-------------+---------+---------------------------+----------+------------+--------+--------+-----------+--------+-----------+-----+\n",
      "|Activity ID|       Activity Date|       Activity Name|    Activity Type|Activity Description|Elapsed Time5|Distance6|Max Heart Rate7|Relative Effort8|Commute9|Activity Private Note|       Activity Gear|            Filename|Athlete Weight|Bike Weight|Elapsed Time15|Moving Time|Distance17|Max Speed|Average Speed|Elevation Gain|Elevation Loss|Elevation Low|Elevation High|Max Grade|Average Grade|Average Positive Grade|Average Negative Grade|Max Cadence|Average Cadence|Max Heart Rate30|Average Heart Rate|Max Watts|Average Watts|Calories|Max Temperature|Average Temperature|Relative Effort37|Total Work|Number of Runs|Uphill Time|Downhill Time|Other Time|Perceived Exertion|Type|Start Time|Weighted Average Power|Power Count|Prefer Perceived Exertion|Perceived Relative Effort|Commute50|Total Weight Lifted|From Upload|Grade Adjusted Distance|Weather Observation Time|Weather Condition|Weather Temperature|Apparent Temperature|Dewpoint|Humidity|Weather Pressure|Wind Speed|Wind Gust|Wind Bearing|Precipitation Intensity|Sunrise Time|Sunset Time|Moon Phase|       Bike|       Gear|Precipitation Probability|Precipitation Type|Cloud Cover|Weather Visibility|UV Index|Weather Ozone|Jump Count|Total Grit|Average Flow|Flagged|Average Elapsed Speed|Dirt Distance|Newly Explored Distance|Newly Explored Dirt Distance|Activity Count|Total Steps|Carbon Saved|Pool Length|Training Load|Intensity|Average Grade Adjusted Pace|Timer Time|Total Cycles|Recovery|With Pet|Competition|Long Run|For a Cause|Media|\n",
      "+-----------+--------------------+--------------------+-----------------+--------------------+-------------+---------+---------------+----------------+--------+---------------------+--------------------+--------------------+--------------+-----------+--------------+-----------+----------+---------+-------------+--------------+--------------+-------------+--------------+---------+-------------+----------------------+----------------------+-----------+---------------+----------------+------------------+---------+-------------+--------+---------------+-------------------+-----------------+----------+--------------+-----------+-------------+----------+------------------+----+----------+----------------------+-----------+-------------------------+-------------------------+---------+-------------------+-----------+-----------------------+------------------------+-----------------+-------------------+--------------------+--------+--------+----------------+----------+---------+------------+-----------------------+------------+-----------+----------+-----------+-----------+-------------------------+------------------+-----------+------------------+--------+-------------+----------+----------+------------+-------+---------------------+-------------+-----------------------+----------------------------+--------------+-----------+------------+-----------+-------------+---------+---------------------------+----------+------------+--------+--------+-----------+--------+-----------+-----+\n",
      "|11110178459|Mar 25, 2024, 6:0...|        Morning Swim|             Swim|                NULL|         2637|    1,250|           NULL|            NULL|   false|                 NULL|                NULL|activities/118753...|          NULL|       NULL|        2637.0|     2631.0|    1250.0|    1.472|        0.475|           0.0|           0.0|          0.0|           0.0|      0.0|          0.0|                  NULL|                  NULL|       NULL|           21.0|            NULL|              NULL|     NULL|         NULL|   315.0|           NULL|               NULL|             NULL|      NULL|          NULL|       NULL|         NULL|      NULL|              NULL|NULL|      NULL|                  NULL|       NULL|                     NULL|                     NULL|      0.0|               NULL|        1.0|                   NULL|                    NULL|             NULL|               NULL|                NULL|    NULL|    NULL|            NULL|      NULL|     NULL|        NULL|                   NULL|        NULL|       NULL|      NULL|       NULL|       NULL|                     NULL|              NULL|       NULL|              NULL|    NULL|         NULL|      NULL|      NULL|        NULL|    0.0|                0.474|          0.0|                   NULL|                        NULL|          NULL|       NULL|        NULL|       NULL|         NULL|     NULL|                       NULL|      NULL|        NULL|    NULL|    NULL|       NULL|    NULL|       NULL| NULL|\n",
      "|11110178463|Mar 7, 2024, 5:03...|        Evening Swim|             Swim|                NULL|         2688|      700|           NULL|            NULL|   false|                 NULL|                NULL|activities/118753...|          NULL|       NULL|        2688.0|     2629.0|     700.0|    1.564|        0.266|           0.0|           0.0|          0.0|           0.0|      0.0|          0.0|                  NULL|                  NULL|       NULL|           17.0|            NULL|              NULL|     NULL|         NULL|   282.0|           NULL|               NULL|             NULL|      NULL|          NULL|       NULL|         NULL|      NULL|              NULL|NULL|      NULL|                  NULL|       NULL|                     NULL|                     NULL|      0.0|               NULL|        1.0|                   NULL|                    NULL|             NULL|               NULL|                NULL|    NULL|    NULL|            NULL|      NULL|     NULL|        NULL|                   NULL|        NULL|       NULL|      NULL|       NULL|       NULL|                     NULL|              NULL|       NULL|              NULL|    NULL|         NULL|      NULL|      NULL|        NULL|    0.0|                 0.26|          0.0|                   NULL|                        NULL|          NULL|       NULL|        NULL|       NULL|         NULL|     NULL|                       NULL|      NULL|        NULL|    NULL|    NULL|       NULL|    NULL|       NULL| NULL|\n",
      "|11110178526|Apr 4, 2024, 4:01...|        Evening Swim|             Swim|                NULL|         2670|      950|           NULL|            NULL|   false|                 NULL|                NULL|activities/118753...|          NULL|       NULL|        2670.0|     2590.0|     950.0|    1.192|        0.367|           0.0|           0.0|          0.0|           0.0|      0.0|          0.0|                  NULL|                  NULL|       NULL|           22.0|            NULL|              NULL|     NULL|         NULL|   338.0|           NULL|               NULL|             NULL|      NULL|          NULL|       NULL|         NULL|      NULL|              NULL|NULL|      NULL|                  NULL|       NULL|                     NULL|                     NULL|      0.0|               NULL|        1.0|                   NULL|                    NULL|             NULL|               NULL|                NULL|    NULL|    NULL|            NULL|      NULL|     NULL|        NULL|                   NULL|        NULL|       NULL|      NULL|       NULL|       NULL|                     NULL|              NULL|       NULL|              NULL|    NULL|         NULL|      NULL|      NULL|        NULL|    0.0|                0.356|          0.0|                   NULL|                        NULL|          NULL|       NULL|        NULL|       NULL|         NULL|     NULL|                       NULL|      NULL|        NULL|    NULL|    NULL|       NULL|    NULL|       NULL| NULL|\n",
      "|11110178530|Feb 29, 2024, 4:0...|      Afternoon Swim|             Swim|                NULL|         2675|      700|           NULL|            NULL|   false|                 NULL|                NULL|activities/118753...|          NULL|       NULL|        2675.0|     2623.0|     700.0|    2.778|        0.267|           0.0|           0.0|          0.0|           0.0|      0.0|          0.0|                  NULL|                  NULL|       NULL|           21.0|            NULL|              NULL|     NULL|         NULL|   230.0|           NULL|               NULL|             NULL|      NULL|          NULL|       NULL|         NULL|      NULL|              NULL|NULL|      NULL|                  NULL|       NULL|                     NULL|                     NULL|      0.0|               NULL|        1.0|                   NULL|                    NULL|             NULL|               NULL|                NULL|    NULL|    NULL|            NULL|      NULL|     NULL|        NULL|                   NULL|        NULL|       NULL|      NULL|       NULL|       NULL|                     NULL|              NULL|       NULL|              NULL|    NULL|         NULL|      NULL|      NULL|        NULL|    0.0|                0.262|          0.0|                   NULL|                        NULL|          NULL|       NULL|        NULL|       NULL|         NULL|     NULL|                       NULL|      NULL|        NULL|    NULL|    NULL|       NULL|    NULL|       NULL| NULL|\n",
      "|11110178531|Mar 14, 2024, 5:0...|        Evening Swim|             Swim|                NULL|         2625|      900|           NULL|            NULL|   false|                 NULL|                NULL|activities/118753...|          NULL|       NULL|        2625.0|     2574.0|     900.0|    1.668|         0.35|           0.0|           0.0|          0.0|           0.0|      0.0|          0.0|                  NULL|                  NULL|       NULL|           28.0|            NULL|              NULL|     NULL|         NULL|   318.0|           NULL|               NULL|             NULL|      NULL|          NULL|       NULL|         NULL|      NULL|              NULL|NULL|      NULL|                  NULL|       NULL|                     NULL|                     NULL|      0.0|               NULL|        1.0|                   NULL|                    NULL|             NULL|               NULL|                NULL|    NULL|    NULL|            NULL|      NULL|     NULL|        NULL|                   NULL|        NULL|       NULL|      NULL|       NULL|       NULL|                     NULL|              NULL|       NULL|              NULL|    NULL|         NULL|      NULL|      NULL|        NULL|    0.0|                0.343|          0.0|                   NULL|                        NULL|          NULL|       NULL|        NULL|       NULL|         NULL|     NULL|                       NULL|      NULL|        NULL|    NULL|    NULL|       NULL|    NULL|       NULL| NULL|\n",
      "|11110178532|Mar 4, 2024, 3:16...|      Afternoon Swim|             Swim|                NULL|         2702|      750|           NULL|            NULL|   false|                 NULL|                NULL|activities/118753...|          NULL|       NULL|        2702.0|     2680.0|     750.0|      2.5|         0.28|           0.0|           0.0|          0.0|           0.0|      0.0|          0.0|                  NULL|                  NULL|       NULL|           21.0|            NULL|              NULL|     NULL|         NULL|   209.0|           NULL|               NULL|             NULL|      NULL|          NULL|       NULL|         NULL|      NULL|              NULL|NULL|      NULL|                  NULL|       NULL|                     NULL|                     NULL|      0.0|               NULL|        1.0|                   NULL|                    NULL|             NULL|               NULL|                NULL|    NULL|    NULL|            NULL|      NULL|     NULL|        NULL|                   NULL|        NULL|       NULL|      NULL|       NULL|       NULL|                     NULL|              NULL|       NULL|              NULL|    NULL|         NULL|      NULL|      NULL|        NULL|    0.0|                0.278|          0.0|                   NULL|                        NULL|          NULL|       NULL|        NULL|       NULL|         NULL|     NULL|                       NULL|      NULL|        NULL|    NULL|    NULL|       NULL|    NULL|       NULL| NULL|\n",
      "|11110178533|Feb 26, 2024, 3:1...|      Afternoon Swim|             Swim|                NULL|         2704|      225|           NULL|            NULL|   false|                 NULL|                NULL|activities/118753...|          NULL|       NULL|        2704.0|     2672.0|     225.0|      2.5|        0.084|           0.0|           0.0|          0.0|           0.0|      0.0|          0.0|                  NULL|                  NULL|       NULL|            0.0|            NULL|              NULL|     NULL|         NULL|   289.0|           NULL|               NULL|             NULL|      NULL|          NULL|       NULL|         NULL|      NULL|              NULL|NULL|      NULL|                  NULL|       NULL|                     NULL|                     NULL|      0.0|               NULL|        1.0|                   NULL|                    NULL|             NULL|               NULL|                NULL|    NULL|    NULL|            NULL|      NULL|     NULL|        NULL|                   NULL|        NULL|       NULL|      NULL|       NULL|       NULL|                     NULL|              NULL|       NULL|              NULL|    NULL|         NULL|      NULL|      NULL|        NULL|    0.0|                0.083|          0.0|                   NULL|                        NULL|          NULL|       NULL|        NULL|       NULL|         NULL|     NULL|                       NULL|      NULL|        NULL|    NULL|    NULL|       NULL|    NULL|       NULL| NULL|\n",
      "|11110178536|Apr 2, 2024, 9:46...|          Lunch Swim|             Swim|                NULL|         2658|    1,175|           NULL|            NULL|   false|                 NULL|                NULL|activities/118753...|          NULL|       NULL|        2658.0|     2617.0|    1175.0|    1.786|        0.449|           0.0|           0.0|          0.0|           0.0|      0.0|          0.0|                  NULL|                  NULL|       NULL|           22.0|            NULL|              NULL|     NULL|         NULL|   377.0|           NULL|               NULL|             NULL|      NULL|          NULL|       NULL|         NULL|      NULL|              NULL|NULL|      NULL|                  NULL|       NULL|                     NULL|                     NULL|      0.0|               NULL|        1.0|                   NULL|                    NULL|             NULL|               NULL|                NULL|    NULL|    NULL|            NULL|      NULL|     NULL|        NULL|                   NULL|        NULL|       NULL|      NULL|       NULL|       NULL|                     NULL|              NULL|       NULL|              NULL|    NULL|         NULL|      NULL|      NULL|        NULL|    0.0|                0.442|          0.0|                   NULL|                        NULL|          NULL|       NULL|        NULL|       NULL|         NULL|     NULL|                       NULL|      NULL|        NULL|    NULL|    NULL|       NULL|    NULL|       NULL| NULL|\n",
      "|11110178543|Mar 18, 2024, 3:1...|      Afternoon Swim|             Swim|                NULL|         2723|      900|           NULL|            NULL|   false|                 NULL|                NULL|activities/118753...|          NULL|       NULL|        2723.0|     2628.0|     900.0|    1.924|        0.342|           0.0|           0.0|          0.0|           0.0|      0.0|          0.0|                  NULL|                  NULL|       NULL|           21.0|            NULL|              NULL|     NULL|         NULL|   307.0|           NULL|               NULL|             NULL|      NULL|          NULL|       NULL|         NULL|      NULL|              NULL|NULL|      NULL|                  NULL|       NULL|                     NULL|                     NULL|      0.0|               NULL|        1.0|                   NULL|                    NULL|             NULL|               NULL|                NULL|    NULL|    NULL|            NULL|      NULL|     NULL|        NULL|                   NULL|        NULL|       NULL|      NULL|       NULL|       NULL|                     NULL|              NULL|       NULL|              NULL|    NULL|         NULL|      NULL|      NULL|        NULL|    0.0|                0.331|          0.0|                   NULL|                        NULL|          NULL|       NULL|        NULL|       NULL|         NULL|     NULL|                       NULL|      NULL|        NULL|    NULL|    NULL|       NULL|    NULL|       NULL| NULL|\n",
      "|11110178549|Mar 21, 2024, 5:0...|        Evening Swim|             Swim|                NULL|         2549|      975|           NULL|            NULL|   false|                 NULL|                NULL|activities/118753...|          NULL|       NULL|        2549.0|     2483.0|     975.0|    1.924|        0.393|           0.0|           0.0|          0.0|           0.0|      0.0|          0.0|                  NULL|                  NULL|       NULL|           21.0|            NULL|              NULL|     NULL|         NULL|   321.0|           NULL|               NULL|             NULL|      NULL|          NULL|       NULL|         NULL|      NULL|              NULL|NULL|      NULL|                  NULL|       NULL|                     NULL|                     NULL|      0.0|               NULL|        1.0|                   NULL|                    NULL|             NULL|               NULL|                NULL|    NULL|    NULL|            NULL|      NULL|     NULL|        NULL|                   NULL|        NULL|       NULL|      NULL|       NULL|       NULL|                     NULL|              NULL|       NULL|              NULL|    NULL|         NULL|      NULL|      NULL|        NULL|    0.0|                0.383|          0.0|                   NULL|                        NULL|          NULL|       NULL|        NULL|       NULL|         NULL|     NULL|                       NULL|      NULL|        NULL|    NULL|    NULL|       NULL|    NULL|       NULL| NULL|\n",
      "|11110178563|Mar 11, 2024, 3:1...|      Afternoon Swim|             Swim|                NULL|         3045|      900|           NULL|            NULL|   false|                 NULL|                NULL|activities/118753...|          NULL|       NULL|        3045.0|     2576.0|     900.0|    1.924|        0.349|           0.0|           0.0|          0.0|           0.0|      0.0|          0.0|                  NULL|                  NULL|       NULL|           22.0|            NULL|              NULL|     NULL|         NULL|   247.0|           NULL|               NULL|             NULL|      NULL|          NULL|       NULL|         NULL|      NULL|              NULL|NULL|      NULL|                  NULL|       NULL|                     NULL|                     NULL|      0.0|               NULL|        1.0|                   NULL|                    NULL|             NULL|               NULL|                NULL|    NULL|    NULL|            NULL|      NULL|     NULL|        NULL|                   NULL|        NULL|       NULL|      NULL|       NULL|       NULL|                     NULL|              NULL|       NULL|              NULL|    NULL|         NULL|      NULL|      NULL|        NULL|    0.0|                0.296|          0.0|                   NULL|                        NULL|          NULL|       NULL|        NULL|       NULL|         NULL|     NULL|                       NULL|      NULL|        NULL|    NULL|    NULL|       NULL|    NULL|       NULL| NULL|\n",
      "|11110178567|Feb 26, 2024, 4:4...|       Afternoon Run|              Run|                NULL|         2721|     7.06|           NULL|            NULL|   false|                 NULL|HOKA Clifton 9 Po...|activities/118753...|          NULL|       NULL|        2721.0|     2721.0|    7066.0|    4.184|        2.597|          34.0|          32.0|         49.0|          77.6|      7.0|          0.0|                  NULL|                  NULL|       88.0|           81.0|            NULL|              NULL|     NULL|        306.0|   550.0|           NULL|               NULL|             NULL|  833173.0|          NULL|       NULL|         NULL|      NULL|              NULL|NULL|      NULL|                 307.0|     2722.0|                      0.0|                     NULL|      0.0|               NULL|        1.0|                 7113.4|                    NULL|             NULL|               NULL|                NULL|    NULL|    NULL|            NULL|      NULL|     NULL|        NULL|                   NULL|        NULL|       NULL|      NULL|       NULL|1.7243084E7|                     NULL|              NULL|       NULL|              NULL|    NULL|         NULL|      NULL|      NULL|        NULL|    0.0|                2.597|        812.7|                   NULL|                        NULL|          NULL|     7316.0|        NULL|       NULL|        403.0|    231.0|                      2.614|      NULL|        NULL|    NULL|    NULL|       NULL|    NULL|       NULL| NULL|\n",
      "|11110178568|Mar 25, 2024, 8:0...|        Morning Ride|             Ride|                NULL|         8167|    45.19|           NULL|            NULL|   false|                 NULL|      Czarna strzała|activities/118753...|          NULL|       NULL|        8167.0|     7243.0|   45194.9|    9.188|         6.24|         174.0|         173.0|         23.8|          51.4|      5.6|          0.0|                  NULL|                  NULL|       NULL|           NULL|            NULL|              NULL|     NULL|         NULL|  1113.0|           NULL|               NULL|             NULL|      NULL|          NULL|       NULL|         NULL|      NULL|              NULL|NULL|      NULL|                  NULL|       NULL|                      0.0|                     NULL|      0.0|               NULL|        1.0|                   NULL|                    NULL|             NULL|               NULL|                NULL|    NULL|    NULL|            NULL|      NULL|     NULL|        NULL|                   NULL|        NULL|       NULL|      NULL|1.4104308E7|       NULL|                     NULL|              NULL|       NULL|              NULL|    NULL|         NULL|      NULL|      NULL|        NULL|    0.0|                5.534|        479.4|                   NULL|                        NULL|          NULL|       NULL|        NULL|       NULL|         NULL|     NULL|                       NULL|      NULL|        NULL|    NULL|    NULL|       NULL|    NULL|       NULL| NULL|\n",
      "|11110178576|Mar 29, 2024, 12:...|      Afternoon Ride|             Ride|                NULL|         5749|    18.19|           NULL|            NULL|   false|                 NULL|      Czarna strzała|activities/118753...|          NULL|       NULL|        5749.0|     4195.0|   18195.5|    7.732|        4.337|         120.0|         100.0|         -0.6|          41.0|     22.1|          0.1|                  NULL|                  NULL|       NULL|           NULL|            NULL|              NULL|     NULL|         NULL|   436.0|           NULL|               NULL|             NULL|      NULL|          NULL|       NULL|         NULL|      NULL|              NULL|NULL|      NULL|                  NULL|       NULL|                      0.0|                     NULL|      0.0|               NULL|        1.0|                   NULL|                    NULL|             NULL|               NULL|                NULL|    NULL|    NULL|            NULL|      NULL|     NULL|        NULL|                   NULL|        NULL|       NULL|      NULL|1.4104308E7|       NULL|                     NULL|              NULL|       NULL|              NULL|    NULL|         NULL|      NULL|      NULL|        NULL|    0.0|                3.165|       1063.3|                   NULL|                        NULL|          NULL|       NULL|        NULL|       NULL|         NULL|     NULL|                       NULL|      NULL|        NULL|    NULL|    NULL|       NULL|    NULL|       NULL| NULL|\n",
      "|11110178577|Mar 19, 2024, 1:2...|Afternoon Footbal...|Football (Soccer)|                NULL|         4128|     5.90|           NULL|            NULL|   false|                 NULL|                NULL|activities/118753...|          NULL|       NULL|        4128.0|     3907.0|    5900.1|    5.886|         1.51|           0.0|           0.0|          7.1|           9.2|      4.2|          0.0|                  NULL|                  NULL|      115.0|           61.0|            NULL|              NULL|     NULL|         NULL|   735.0|           NULL|               NULL|             NULL|      NULL|          NULL|       NULL|         NULL|      NULL|              NULL|NULL|      NULL|                  NULL|       NULL|                     NULL|                     NULL|      0.0|               NULL|        1.0|                   NULL|                    NULL|             NULL|               NULL|                NULL|    NULL|    NULL|            NULL|      NULL|     NULL|        NULL|                   NULL|        NULL|       NULL|      NULL|       NULL|       NULL|                     NULL|              NULL|       NULL|              NULL|    NULL|         NULL|      NULL|      NULL|        NULL|    0.0|                1.429|          0.0|                   NULL|                        NULL|          NULL|       NULL|        NULL|       NULL|         NULL|     NULL|                       NULL|      NULL|        NULL|    NULL|    NULL|       NULL|    NULL|       NULL| NULL|\n",
      "|11110178580|Mar 5, 2024, 2:42...|Afternoon Footbal...|Football (Soccer)|                NULL|         3570|     5.59|           NULL|            NULL|   false|                 NULL|                NULL|activities/118753...|          NULL|       NULL|        3570.0|     3554.0|    5593.2|    6.368|        1.574|           0.0|           0.0|          7.9|           9.6|      6.1|          0.0|                  NULL|                  NULL|      113.0|           61.0|            NULL|              NULL|     NULL|         NULL|   705.0|           NULL|               NULL|             NULL|      NULL|          NULL|       NULL|         NULL|      NULL|              NULL|NULL|      NULL|                  NULL|       NULL|                     NULL|                     NULL|      0.0|               NULL|        1.0|                   NULL|                    NULL|             NULL|               NULL|                NULL|    NULL|    NULL|            NULL|      NULL|     NULL|        NULL|                   NULL|        NULL|       NULL|      NULL|       NULL|       NULL|                     NULL|              NULL|       NULL|              NULL|    NULL|         NULL|      NULL|      NULL|        NULL|    0.0|                1.567|          0.0|                   NULL|                        NULL|          NULL|       NULL|        NULL|       NULL|         NULL|     NULL|                       NULL|      NULL|        NULL|    NULL|    NULL|       NULL|    NULL|       NULL| NULL|\n",
      "|11110178586|Mar 19, 2024, 2:5...|      Afternoon Ride|             Ride|                NULL|         6405|    22.22|           NULL|            NULL|   false|                 NULL|      Czarna strzała|activities/118753...|          NULL|       NULL|        6405.0|     4845.0|   22222.8|    8.315|        4.587|         176.0|          44.0|          0.4|         141.6|     49.5|          0.6|                  NULL|                  NULL|       NULL|           NULL|            NULL|              NULL|     NULL|         NULL|   745.0|           NULL|               NULL|             NULL|      NULL|          NULL|       NULL|         NULL|      NULL|              NULL|NULL|      NULL|                  NULL|       NULL|                      0.0|                     NULL|      0.0|               NULL|        1.0|                   NULL|                    NULL|             NULL|               NULL|                NULL|    NULL|    NULL|            NULL|      NULL|     NULL|        NULL|                   NULL|        NULL|       NULL|      NULL|1.4104308E7|       NULL|                     NULL|              NULL|       NULL|              NULL|    NULL|         NULL|      NULL|      NULL|        NULL|    0.0|                 3.47|         90.9|                   NULL|                        NULL|          NULL|       NULL|        NULL|       NULL|         NULL|     NULL|                       NULL|      NULL|        NULL|    NULL|    NULL|       NULL|    NULL|       NULL| NULL|\n",
      "|11110178588|Mar 30, 2024, 4:0...|       Afternoon Run|              Run|                NULL|         3735|    10.08|           NULL|            NULL|   false|                 NULL|HOKA Clifton 9 Po...|activities/118753...|          NULL|       NULL|        3735.0|     3735.0|   10080.4|    3.944|        2.699|          47.0|          46.0|         34.4|          77.4|      9.7|          0.0|                  NULL|                  NULL|       85.0|           79.0|            NULL|              NULL|     NULL|        329.0|   740.0|           NULL|               NULL|             NULL| 1228860.0|          NULL|       NULL|         NULL|      NULL|              NULL|NULL|      NULL|                 332.0|     3736.0|                      0.0|                     NULL|      0.0|               NULL|        1.0|                10150.8|                    NULL|             NULL|               NULL|                NULL|    NULL|    NULL|            NULL|      NULL|     NULL|        NULL|                   NULL|        NULL|       NULL|      NULL|       NULL|1.7243084E7|                     NULL|              NULL|       NULL|              NULL|    NULL|         NULL|      NULL|      NULL|        NULL|    0.0|                2.699|         71.9|                   NULL|                        NULL|          NULL|     9884.0|        NULL|       NULL|        647.0|    250.0|                      2.718|      NULL|        NULL|    NULL|    NULL|       NULL|    NULL|       NULL| NULL|\n",
      "|11110178590|Apr 1, 2024, 2:47...|       Afternoon Run|              Run|                NULL|         3614|     9.44|           NULL|            NULL|   false|                 NULL|HOKA Clifton 9 Po...|activities/118753...|          NULL|       NULL|        3614.0|     3614.0|    9443.3|    3.736|        2.613|          43.0|          41.0|         35.6|          79.8|      6.7|          0.0|                  NULL|                  NULL|       83.0|           79.0|            NULL|              NULL|     NULL|        321.0|   775.0|           NULL|               NULL|             NULL| 1158615.0|          NULL|       NULL|         NULL|      NULL|              NULL|NULL|      NULL|                 321.0|     3615.0|                      0.0|                     NULL|      0.0|               NULL|        1.0|                 9506.9|                    NULL|             NULL|               NULL|                NULL|    NULL|    NULL|            NULL|      NULL|     NULL|        NULL|                   NULL|        NULL|       NULL|      NULL|       NULL|1.7243084E7|                     NULL|              NULL|       NULL|              NULL|    NULL|         NULL|      NULL|      NULL|        NULL|    0.0|                2.613|        397.7|                   NULL|                        NULL|          NULL|     9604.0|        NULL|       NULL|        584.0|    241.0|                      2.631|      NULL|        NULL|    NULL|    NULL|       NULL|    NULL|       NULL| NULL|\n",
      "|11110178599|Mar 29, 2024, 9:5...|        Morning Ride|             Ride|                NULL|         6090|    19.57|           NULL|            NULL|   false|                 NULL|      Czarna strzała|activities/118753...|          NULL|       NULL|        6090.0|     4584.0|   19578.2|    8.867|        4.271|         143.0|         152.0|          3.8|          41.8|     44.1|         -0.1|                  NULL|                  NULL|       NULL|           NULL|            NULL|              NULL|     NULL|         NULL|   512.0|           NULL|               NULL|             NULL|      NULL|          NULL|       NULL|         NULL|      NULL|              NULL|NULL|      NULL|                  NULL|       NULL|                      0.0|                     NULL|      0.0|               NULL|        1.0|                   NULL|                    NULL|             NULL|               NULL|                NULL|    NULL|    NULL|            NULL|      NULL|     NULL|        NULL|                   NULL|        NULL|       NULL|      NULL|1.4104308E7|       NULL|                     NULL|              NULL|       NULL|              NULL|    NULL|         NULL|      NULL|      NULL|        NULL|    0.0|                3.215|       2409.5|                   NULL|                        NULL|          NULL|       NULL|        NULL|       NULL|         NULL|     NULL|                       NULL|      NULL|        NULL|    NULL|    NULL|       NULL|    NULL|       NULL| NULL|\n",
      "+-----------+--------------------+--------------------+-----------------+--------------------+-------------+---------+---------------+----------------+--------+---------------------+--------------------+--------------------+--------------+-----------+--------------+-----------+----------+---------+-------------+--------------+--------------+-------------+--------------+---------+-------------+----------------------+----------------------+-----------+---------------+----------------+------------------+---------+-------------+--------+---------------+-------------------+-----------------+----------+--------------+-----------+-------------+----------+------------------+----+----------+----------------------+-----------+-------------------------+-------------------------+---------+-------------------+-----------+-----------------------+------------------------+-----------------+-------------------+--------------------+--------+--------+----------------+----------+---------+------------+-----------------------+------------+-----------+----------+-----------+-----------+-------------------------+------------------+-----------+------------------+--------+-------------+----------+----------+------------+-------+---------------------+-------------+-----------------------+----------------------------+--------------+-----------+------------+-----------+-------------+---------+---------------------------+----------+------------+--------+--------+-----------+--------+-----------+-----+\n",
      "only showing top 20 rows\n"
     ]
    }
   ],
   "source": [
    "activites_df.show()"
   ]
  },
  {
   "cell_type": "code",
   "execution_count": 5,
   "id": "213bc839",
   "metadata": {},
   "outputs": [],
   "source": [
    "from pyspark.sql import functions as F"
   ]
  },
  {
   "cell_type": "code",
   "execution_count": 6,
   "id": "e9327ff3",
   "metadata": {},
   "outputs": [],
   "source": [
    "activites_df = activites_df.withColumn('Activity Date', F.to_timestamp('Activity Date', 'MMM d, yyyy, h:mm:ss a'))"
   ]
  },
  {
   "cell_type": "code",
   "execution_count": 7,
   "id": "e7aea07a",
   "metadata": {},
   "outputs": [],
   "source": [
    "from pyspark.sql.functions import year, month, day, weekday"
   ]
  },
  {
   "cell_type": "code",
   "execution_count": 8,
   "id": "eeb11704",
   "metadata": {},
   "outputs": [],
   "source": [
    "activites_df = activites_df.withColumn('Year', year('Activity Date')).withColumn('Month', month('Activity Date')).withColumn('Day', day('Activity Date')).withColumn('Weekday', weekday('Activity Date'))"
   ]
  },
  {
   "cell_type": "code",
   "execution_count": 9,
   "id": "676fbf7c",
   "metadata": {},
   "outputs": [
    {
     "data": {
      "text/plain": [
       "['Activity ID',\n",
       " 'Activity Date',\n",
       " 'Activity Name',\n",
       " 'Activity Type',\n",
       " 'Activity Description',\n",
       " 'Elapsed Time5',\n",
       " 'Distance6',\n",
       " 'Max Heart Rate7',\n",
       " 'Relative Effort8',\n",
       " 'Commute9',\n",
       " 'Activity Private Note',\n",
       " 'Activity Gear',\n",
       " 'Filename',\n",
       " 'Athlete Weight',\n",
       " 'Bike Weight',\n",
       " 'Elapsed Time15',\n",
       " 'Moving Time',\n",
       " 'Distance17',\n",
       " 'Max Speed',\n",
       " 'Average Speed',\n",
       " 'Elevation Gain',\n",
       " 'Elevation Loss',\n",
       " 'Elevation Low',\n",
       " 'Elevation High',\n",
       " 'Max Grade',\n",
       " 'Average Grade',\n",
       " 'Average Positive Grade',\n",
       " 'Average Negative Grade',\n",
       " 'Max Cadence',\n",
       " 'Average Cadence',\n",
       " 'Max Heart Rate30',\n",
       " 'Average Heart Rate',\n",
       " 'Max Watts',\n",
       " 'Average Watts',\n",
       " 'Calories',\n",
       " 'Max Temperature',\n",
       " 'Average Temperature',\n",
       " 'Relative Effort37',\n",
       " 'Total Work',\n",
       " 'Number of Runs',\n",
       " 'Uphill Time',\n",
       " 'Downhill Time',\n",
       " 'Other Time',\n",
       " 'Perceived Exertion',\n",
       " 'Type',\n",
       " 'Start Time',\n",
       " 'Weighted Average Power',\n",
       " 'Power Count',\n",
       " 'Prefer Perceived Exertion',\n",
       " 'Perceived Relative Effort',\n",
       " 'Commute50',\n",
       " 'Total Weight Lifted',\n",
       " 'From Upload',\n",
       " 'Grade Adjusted Distance',\n",
       " 'Weather Observation Time',\n",
       " 'Weather Condition',\n",
       " 'Weather Temperature',\n",
       " 'Apparent Temperature',\n",
       " 'Dewpoint',\n",
       " 'Humidity',\n",
       " 'Weather Pressure',\n",
       " 'Wind Speed',\n",
       " 'Wind Gust',\n",
       " 'Wind Bearing',\n",
       " 'Precipitation Intensity',\n",
       " 'Sunrise Time',\n",
       " 'Sunset Time',\n",
       " 'Moon Phase',\n",
       " 'Bike',\n",
       " 'Gear',\n",
       " 'Precipitation Probability',\n",
       " 'Precipitation Type',\n",
       " 'Cloud Cover',\n",
       " 'Weather Visibility',\n",
       " 'UV Index',\n",
       " 'Weather Ozone',\n",
       " 'Jump Count',\n",
       " 'Total Grit',\n",
       " 'Average Flow',\n",
       " 'Flagged',\n",
       " 'Average Elapsed Speed',\n",
       " 'Dirt Distance',\n",
       " 'Newly Explored Distance',\n",
       " 'Newly Explored Dirt Distance',\n",
       " 'Activity Count',\n",
       " 'Total Steps',\n",
       " 'Carbon Saved',\n",
       " 'Pool Length',\n",
       " 'Training Load',\n",
       " 'Intensity',\n",
       " 'Average Grade Adjusted Pace',\n",
       " 'Timer Time',\n",
       " 'Total Cycles',\n",
       " 'Recovery',\n",
       " 'With Pet',\n",
       " 'Competition',\n",
       " 'Long Run',\n",
       " 'For a Cause',\n",
       " 'Media',\n",
       " 'Year',\n",
       " 'Month',\n",
       " 'Day',\n",
       " 'Weekday']"
      ]
     },
     "execution_count": 9,
     "metadata": {},
     "output_type": "execute_result"
    }
   ],
   "source": [
    "activites_df.columns"
   ]
  },
  {
   "cell_type": "code",
   "execution_count": 10,
   "id": "7f6f59e0",
   "metadata": {},
   "outputs": [],
   "source": [
    "activites_df = activites_df.drop('Elapsed Time15', 'Distance17', 'Max Heart Rate30', 'Relative Effort37', 'Commute50') \\\n",
    "    .withColumnRenamed('Elapsed Time5', 'Elapsed Time') \\\n",
    "    .withColumnRenamed('Distance6', 'Distance') \\\n",
    "    .withColumnRenamed('Max Heart Rate7', 'Max Heart Rate') \\\n",
    "    .withColumnRenamed('Relative Effort8', 'Relative Effort') \\\n",
    "    .withColumnRenamed('Commute9', 'Commute')"
   ]
  },
  {
   "cell_type": "code",
   "execution_count": 21,
   "id": "20f638bb",
   "metadata": {},
   "outputs": [],
   "source": [
    "activites_df = activites_df.withColumn('Max Speed', activites_df['Max Speed'] * 3.6) \\\n",
    "    .withColumn('Average Speed', activites_df['Average Speed'] * 3.6)"
   ]
  },
  {
   "cell_type": "code",
   "execution_count": 22,
   "id": "3a51e70d",
   "metadata": {},
   "outputs": [
    {
     "name": "stdout",
     "output_type": "stream",
     "text": [
      "+-----------+-------------------+--------------------+-----------------+--------------------+------------+--------+--------------+---------------+-------+---------------------+--------------------+--------------------+--------------+-----------+-----------+------------------+------------------+--------------+--------------+-------------+--------------+---------+-------------+----------------------+----------------------+-----------+---------------+------------------+---------+-------------+--------+---------------+-------------------+----------+--------------+-----------+-------------+----------+------------------+----+----------+----------------------+-----------+-------------------------+-------------------------+-------------------+-----------+-----------------------+------------------------+-----------------+-------------------+--------------------+--------+--------+----------------+----------+---------+------------+-----------------------+------------+-----------+----------+-----------+-----------+-------------------------+------------------+-----------+------------------+--------+-------------+----------+----------+------------+-------+---------------------+-------------+-----------------------+----------------------------+--------------+-----------+------------+-----------+-------------+---------+---------------------------+----------+------------+--------+--------+-----------+--------+-----------+-----+----+-----+---+-------+\n",
      "|Activity ID|      Activity Date|       Activity Name|    Activity Type|Activity Description|Elapsed Time|Distance|Max Heart Rate|Relative Effort|Commute|Activity Private Note|       Activity Gear|            Filename|Athlete Weight|Bike Weight|Moving Time|         Max Speed|     Average Speed|Elevation Gain|Elevation Loss|Elevation Low|Elevation High|Max Grade|Average Grade|Average Positive Grade|Average Negative Grade|Max Cadence|Average Cadence|Average Heart Rate|Max Watts|Average Watts|Calories|Max Temperature|Average Temperature|Total Work|Number of Runs|Uphill Time|Downhill Time|Other Time|Perceived Exertion|Type|Start Time|Weighted Average Power|Power Count|Prefer Perceived Exertion|Perceived Relative Effort|Total Weight Lifted|From Upload|Grade Adjusted Distance|Weather Observation Time|Weather Condition|Weather Temperature|Apparent Temperature|Dewpoint|Humidity|Weather Pressure|Wind Speed|Wind Gust|Wind Bearing|Precipitation Intensity|Sunrise Time|Sunset Time|Moon Phase|       Bike|       Gear|Precipitation Probability|Precipitation Type|Cloud Cover|Weather Visibility|UV Index|Weather Ozone|Jump Count|Total Grit|Average Flow|Flagged|Average Elapsed Speed|Dirt Distance|Newly Explored Distance|Newly Explored Dirt Distance|Activity Count|Total Steps|Carbon Saved|Pool Length|Training Load|Intensity|Average Grade Adjusted Pace|Timer Time|Total Cycles|Recovery|With Pet|Competition|Long Run|For a Cause|Media|Year|Month|Day|Weekday|\n",
      "+-----------+-------------------+--------------------+-----------------+--------------------+------------+--------+--------------+---------------+-------+---------------------+--------------------+--------------------+--------------+-----------+-----------+------------------+------------------+--------------+--------------+-------------+--------------+---------+-------------+----------------------+----------------------+-----------+---------------+------------------+---------+-------------+--------+---------------+-------------------+----------+--------------+-----------+-------------+----------+------------------+----+----------+----------------------+-----------+-------------------------+-------------------------+-------------------+-----------+-----------------------+------------------------+-----------------+-------------------+--------------------+--------+--------+----------------+----------+---------+------------+-----------------------+------------+-----------+----------+-----------+-----------+-------------------------+------------------+-----------+------------------+--------+-------------+----------+----------+------------+-------+---------------------+-------------+-----------------------+----------------------------+--------------+-----------+------------+-----------+-------------+---------+---------------------------+----------+------------+--------+--------+-----------+--------+-----------+-----+----+-----+---+-------+\n",
      "|11110178459|2024-03-25 06:01:54|        Morning Swim|             Swim|                NULL|        2637|   1,250|          NULL|           NULL|  false|                 NULL|                NULL|activities/118753...|          NULL|       NULL|     2631.0|            5.2992|              1.71|           0.0|           0.0|          0.0|           0.0|      0.0|          0.0|                  NULL|                  NULL|       NULL|           21.0|              NULL|     NULL|         NULL|   315.0|           NULL|               NULL|      NULL|          NULL|       NULL|         NULL|      NULL|              NULL|NULL|      NULL|                  NULL|       NULL|                     NULL|                     NULL|               NULL|        1.0|                   NULL|                    NULL|             NULL|               NULL|                NULL|    NULL|    NULL|            NULL|      NULL|     NULL|        NULL|                   NULL|        NULL|       NULL|      NULL|       NULL|       NULL|                     NULL|              NULL|       NULL|              NULL|    NULL|         NULL|      NULL|      NULL|        NULL|    0.0|                0.474|          0.0|                   NULL|                        NULL|          NULL|       NULL|        NULL|       NULL|         NULL|     NULL|                       NULL|      NULL|        NULL|    NULL|    NULL|       NULL|    NULL|       NULL| NULL|2024|    3| 25|      0|\n",
      "|11110178463|2024-03-07 17:03:21|        Evening Swim|             Swim|                NULL|        2688|     700|          NULL|           NULL|  false|                 NULL|                NULL|activities/118753...|          NULL|       NULL|     2629.0| 5.630400000000001|0.9576000000000001|           0.0|           0.0|          0.0|           0.0|      0.0|          0.0|                  NULL|                  NULL|       NULL|           17.0|              NULL|     NULL|         NULL|   282.0|           NULL|               NULL|      NULL|          NULL|       NULL|         NULL|      NULL|              NULL|NULL|      NULL|                  NULL|       NULL|                     NULL|                     NULL|               NULL|        1.0|                   NULL|                    NULL|             NULL|               NULL|                NULL|    NULL|    NULL|            NULL|      NULL|     NULL|        NULL|                   NULL|        NULL|       NULL|      NULL|       NULL|       NULL|                     NULL|              NULL|       NULL|              NULL|    NULL|         NULL|      NULL|      NULL|        NULL|    0.0|                 0.26|          0.0|                   NULL|                        NULL|          NULL|       NULL|        NULL|       NULL|         NULL|     NULL|                       NULL|      NULL|        NULL|    NULL|    NULL|       NULL|    NULL|       NULL| NULL|2024|    3|  7|      3|\n",
      "|11110178526|2024-04-04 16:01:19|        Evening Swim|             Swim|                NULL|        2670|     950|          NULL|           NULL|  false|                 NULL|                NULL|activities/118753...|          NULL|       NULL|     2590.0|            4.2912|            1.3212|           0.0|           0.0|          0.0|           0.0|      0.0|          0.0|                  NULL|                  NULL|       NULL|           22.0|              NULL|     NULL|         NULL|   338.0|           NULL|               NULL|      NULL|          NULL|       NULL|         NULL|      NULL|              NULL|NULL|      NULL|                  NULL|       NULL|                     NULL|                     NULL|               NULL|        1.0|                   NULL|                    NULL|             NULL|               NULL|                NULL|    NULL|    NULL|            NULL|      NULL|     NULL|        NULL|                   NULL|        NULL|       NULL|      NULL|       NULL|       NULL|                     NULL|              NULL|       NULL|              NULL|    NULL|         NULL|      NULL|      NULL|        NULL|    0.0|                0.356|          0.0|                   NULL|                        NULL|          NULL|       NULL|        NULL|       NULL|         NULL|     NULL|                       NULL|      NULL|        NULL|    NULL|    NULL|       NULL|    NULL|       NULL| NULL|2024|    4|  4|      3|\n",
      "|11110178530|2024-02-29 16:01:32|      Afternoon Swim|             Swim|                NULL|        2675|     700|          NULL|           NULL|  false|                 NULL|                NULL|activities/118753...|          NULL|       NULL|     2623.0|           10.0008|            0.9612|           0.0|           0.0|          0.0|           0.0|      0.0|          0.0|                  NULL|                  NULL|       NULL|           21.0|              NULL|     NULL|         NULL|   230.0|           NULL|               NULL|      NULL|          NULL|       NULL|         NULL|      NULL|              NULL|NULL|      NULL|                  NULL|       NULL|                     NULL|                     NULL|               NULL|        1.0|                   NULL|                    NULL|             NULL|               NULL|                NULL|    NULL|    NULL|            NULL|      NULL|     NULL|        NULL|                   NULL|        NULL|       NULL|      NULL|       NULL|       NULL|                     NULL|              NULL|       NULL|              NULL|    NULL|         NULL|      NULL|      NULL|        NULL|    0.0|                0.262|          0.0|                   NULL|                        NULL|          NULL|       NULL|        NULL|       NULL|         NULL|     NULL|                       NULL|      NULL|        NULL|    NULL|    NULL|       NULL|    NULL|       NULL| NULL|2024|    2| 29|      3|\n",
      "|11110178531|2024-03-14 17:02:34|        Evening Swim|             Swim|                NULL|        2625|     900|          NULL|           NULL|  false|                 NULL|                NULL|activities/118753...|          NULL|       NULL|     2574.0|6.0047999999999995|              1.26|           0.0|           0.0|          0.0|           0.0|      0.0|          0.0|                  NULL|                  NULL|       NULL|           28.0|              NULL|     NULL|         NULL|   318.0|           NULL|               NULL|      NULL|          NULL|       NULL|         NULL|      NULL|              NULL|NULL|      NULL|                  NULL|       NULL|                     NULL|                     NULL|               NULL|        1.0|                   NULL|                    NULL|             NULL|               NULL|                NULL|    NULL|    NULL|            NULL|      NULL|     NULL|        NULL|                   NULL|        NULL|       NULL|      NULL|       NULL|       NULL|                     NULL|              NULL|       NULL|              NULL|    NULL|         NULL|      NULL|      NULL|        NULL|    0.0|                0.343|          0.0|                   NULL|                        NULL|          NULL|       NULL|        NULL|       NULL|         NULL|     NULL|                       NULL|      NULL|        NULL|    NULL|    NULL|       NULL|    NULL|       NULL| NULL|2024|    3| 14|      3|\n",
      "|11110178532|2024-03-04 15:16:41|      Afternoon Swim|             Swim|                NULL|        2702|     750|          NULL|           NULL|  false|                 NULL|                NULL|activities/118753...|          NULL|       NULL|     2680.0|               9.0|1.0080000000000002|           0.0|           0.0|          0.0|           0.0|      0.0|          0.0|                  NULL|                  NULL|       NULL|           21.0|              NULL|     NULL|         NULL|   209.0|           NULL|               NULL|      NULL|          NULL|       NULL|         NULL|      NULL|              NULL|NULL|      NULL|                  NULL|       NULL|                     NULL|                     NULL|               NULL|        1.0|                   NULL|                    NULL|             NULL|               NULL|                NULL|    NULL|    NULL|            NULL|      NULL|     NULL|        NULL|                   NULL|        NULL|       NULL|      NULL|       NULL|       NULL|                     NULL|              NULL|       NULL|              NULL|    NULL|         NULL|      NULL|      NULL|        NULL|    0.0|                0.278|          0.0|                   NULL|                        NULL|          NULL|       NULL|        NULL|       NULL|         NULL|     NULL|                       NULL|      NULL|        NULL|    NULL|    NULL|       NULL|    NULL|       NULL| NULL|2024|    3|  4|      0|\n",
      "|11110178533|2024-02-26 15:15:29|      Afternoon Swim|             Swim|                NULL|        2704|     225|          NULL|           NULL|  false|                 NULL|                NULL|activities/118753...|          NULL|       NULL|     2672.0|               9.0|            0.3024|           0.0|           0.0|          0.0|           0.0|      0.0|          0.0|                  NULL|                  NULL|       NULL|            0.0|              NULL|     NULL|         NULL|   289.0|           NULL|               NULL|      NULL|          NULL|       NULL|         NULL|      NULL|              NULL|NULL|      NULL|                  NULL|       NULL|                     NULL|                     NULL|               NULL|        1.0|                   NULL|                    NULL|             NULL|               NULL|                NULL|    NULL|    NULL|            NULL|      NULL|     NULL|        NULL|                   NULL|        NULL|       NULL|      NULL|       NULL|       NULL|                     NULL|              NULL|       NULL|              NULL|    NULL|         NULL|      NULL|      NULL|        NULL|    0.0|                0.083|          0.0|                   NULL|                        NULL|          NULL|       NULL|        NULL|       NULL|         NULL|     NULL|                       NULL|      NULL|        NULL|    NULL|    NULL|       NULL|    NULL|       NULL| NULL|2024|    2| 26|      0|\n",
      "|11110178536|2024-04-02 09:46:29|          Lunch Swim|             Swim|                NULL|        2658|   1,175|          NULL|           NULL|  false|                 NULL|                NULL|activities/118753...|          NULL|       NULL|     2617.0| 6.429600000000001|            1.6164|           0.0|           0.0|          0.0|           0.0|      0.0|          0.0|                  NULL|                  NULL|       NULL|           22.0|              NULL|     NULL|         NULL|   377.0|           NULL|               NULL|      NULL|          NULL|       NULL|         NULL|      NULL|              NULL|NULL|      NULL|                  NULL|       NULL|                     NULL|                     NULL|               NULL|        1.0|                   NULL|                    NULL|             NULL|               NULL|                NULL|    NULL|    NULL|            NULL|      NULL|     NULL|        NULL|                   NULL|        NULL|       NULL|      NULL|       NULL|       NULL|                     NULL|              NULL|       NULL|              NULL|    NULL|         NULL|      NULL|      NULL|        NULL|    0.0|                0.442|          0.0|                   NULL|                        NULL|          NULL|       NULL|        NULL|       NULL|         NULL|     NULL|                       NULL|      NULL|        NULL|    NULL|    NULL|       NULL|    NULL|       NULL| NULL|2024|    4|  2|      1|\n",
      "|11110178543|2024-03-18 15:16:33|      Afternoon Swim|             Swim|                NULL|        2723|     900|          NULL|           NULL|  false|                 NULL|                NULL|activities/118753...|          NULL|       NULL|     2628.0|            6.9264|            1.2312|           0.0|           0.0|          0.0|           0.0|      0.0|          0.0|                  NULL|                  NULL|       NULL|           21.0|              NULL|     NULL|         NULL|   307.0|           NULL|               NULL|      NULL|          NULL|       NULL|         NULL|      NULL|              NULL|NULL|      NULL|                  NULL|       NULL|                     NULL|                     NULL|               NULL|        1.0|                   NULL|                    NULL|             NULL|               NULL|                NULL|    NULL|    NULL|            NULL|      NULL|     NULL|        NULL|                   NULL|        NULL|       NULL|      NULL|       NULL|       NULL|                     NULL|              NULL|       NULL|              NULL|    NULL|         NULL|      NULL|      NULL|        NULL|    0.0|                0.331|          0.0|                   NULL|                        NULL|          NULL|       NULL|        NULL|       NULL|         NULL|     NULL|                       NULL|      NULL|        NULL|    NULL|    NULL|       NULL|    NULL|       NULL| NULL|2024|    3| 18|      0|\n",
      "|11110178549|2024-03-21 17:03:11|        Evening Swim|             Swim|                NULL|        2549|     975|          NULL|           NULL|  false|                 NULL|                NULL|activities/118753...|          NULL|       NULL|     2483.0|            6.9264|            1.4148|           0.0|           0.0|          0.0|           0.0|      0.0|          0.0|                  NULL|                  NULL|       NULL|           21.0|              NULL|     NULL|         NULL|   321.0|           NULL|               NULL|      NULL|          NULL|       NULL|         NULL|      NULL|              NULL|NULL|      NULL|                  NULL|       NULL|                     NULL|                     NULL|               NULL|        1.0|                   NULL|                    NULL|             NULL|               NULL|                NULL|    NULL|    NULL|            NULL|      NULL|     NULL|        NULL|                   NULL|        NULL|       NULL|      NULL|       NULL|       NULL|                     NULL|              NULL|       NULL|              NULL|    NULL|         NULL|      NULL|      NULL|        NULL|    0.0|                0.383|          0.0|                   NULL|                        NULL|          NULL|       NULL|        NULL|       NULL|         NULL|     NULL|                       NULL|      NULL|        NULL|    NULL|    NULL|       NULL|    NULL|       NULL| NULL|2024|    3| 21|      3|\n",
      "|11110178563|2024-03-11 15:15:38|      Afternoon Swim|             Swim|                NULL|        3045|     900|          NULL|           NULL|  false|                 NULL|                NULL|activities/118753...|          NULL|       NULL|     2576.0|            6.9264|            1.2564|           0.0|           0.0|          0.0|           0.0|      0.0|          0.0|                  NULL|                  NULL|       NULL|           22.0|              NULL|     NULL|         NULL|   247.0|           NULL|               NULL|      NULL|          NULL|       NULL|         NULL|      NULL|              NULL|NULL|      NULL|                  NULL|       NULL|                     NULL|                     NULL|               NULL|        1.0|                   NULL|                    NULL|             NULL|               NULL|                NULL|    NULL|    NULL|            NULL|      NULL|     NULL|        NULL|                   NULL|        NULL|       NULL|      NULL|       NULL|       NULL|                     NULL|              NULL|       NULL|              NULL|    NULL|         NULL|      NULL|      NULL|        NULL|    0.0|                0.296|          0.0|                   NULL|                        NULL|          NULL|       NULL|        NULL|       NULL|         NULL|     NULL|                       NULL|      NULL|        NULL|    NULL|    NULL|       NULL|    NULL|       NULL| NULL|2024|    3| 11|      0|\n",
      "|11110178567|2024-02-26 16:43:31|       Afternoon Run|              Run|                NULL|        2721|    7.06|          NULL|           NULL|  false|                 NULL|HOKA Clifton 9 Po...|activities/118753...|          NULL|       NULL|     2721.0|           15.0624|            9.3492|          34.0|          32.0|         49.0|          77.6|      7.0|          0.0|                  NULL|                  NULL|       88.0|           81.0|              NULL|     NULL|        306.0|   550.0|           NULL|               NULL|  833173.0|          NULL|       NULL|         NULL|      NULL|              NULL|NULL|      NULL|                 307.0|     2722.0|                      0.0|                     NULL|               NULL|        1.0|                 7113.4|                    NULL|             NULL|               NULL|                NULL|    NULL|    NULL|            NULL|      NULL|     NULL|        NULL|                   NULL|        NULL|       NULL|      NULL|       NULL|1.7243084E7|                     NULL|              NULL|       NULL|              NULL|    NULL|         NULL|      NULL|      NULL|        NULL|    0.0|                2.597|        812.7|                   NULL|                        NULL|          NULL|     7316.0|        NULL|       NULL|        403.0|    231.0|                      2.614|      NULL|        NULL|    NULL|    NULL|       NULL|    NULL|       NULL| NULL|2024|    2| 26|      0|\n",
      "|11110178568|2024-03-25 08:07:25|        Morning Ride|             Ride|                NULL|        8167|   45.19|          NULL|           NULL|  false|                 NULL|      Czarna strzała|activities/118753...|          NULL|       NULL|     7243.0|33.076800000000006|22.464000000000002|         174.0|         173.0|         23.8|          51.4|      5.6|          0.0|                  NULL|                  NULL|       NULL|           NULL|              NULL|     NULL|         NULL|  1113.0|           NULL|               NULL|      NULL|          NULL|       NULL|         NULL|      NULL|              NULL|NULL|      NULL|                  NULL|       NULL|                      0.0|                     NULL|               NULL|        1.0|                   NULL|                    NULL|             NULL|               NULL|                NULL|    NULL|    NULL|            NULL|      NULL|     NULL|        NULL|                   NULL|        NULL|       NULL|      NULL|1.4104308E7|       NULL|                     NULL|              NULL|       NULL|              NULL|    NULL|         NULL|      NULL|      NULL|        NULL|    0.0|                5.534|        479.4|                   NULL|                        NULL|          NULL|       NULL|        NULL|       NULL|         NULL|     NULL|                       NULL|      NULL|        NULL|    NULL|    NULL|       NULL|    NULL|       NULL| NULL|2024|    3| 25|      0|\n",
      "|11110178576|2024-03-29 12:16:05|      Afternoon Ride|             Ride|                NULL|        5749|   18.19|          NULL|           NULL|  false|                 NULL|      Czarna strzała|activities/118753...|          NULL|       NULL|     4195.0|           27.8352|15.613199999999999|         120.0|         100.0|         -0.6|          41.0|     22.1|          0.1|                  NULL|                  NULL|       NULL|           NULL|              NULL|     NULL|         NULL|   436.0|           NULL|               NULL|      NULL|          NULL|       NULL|         NULL|      NULL|              NULL|NULL|      NULL|                  NULL|       NULL|                      0.0|                     NULL|               NULL|        1.0|                   NULL|                    NULL|             NULL|               NULL|                NULL|    NULL|    NULL|            NULL|      NULL|     NULL|        NULL|                   NULL|        NULL|       NULL|      NULL|1.4104308E7|       NULL|                     NULL|              NULL|       NULL|              NULL|    NULL|         NULL|      NULL|      NULL|        NULL|    0.0|                3.165|       1063.3|                   NULL|                        NULL|          NULL|       NULL|        NULL|       NULL|         NULL|     NULL|                       NULL|      NULL|        NULL|    NULL|    NULL|       NULL|    NULL|       NULL| NULL|2024|    3| 29|      4|\n",
      "|11110178577|2024-03-19 13:24:46|Afternoon Footbal...|Football (Soccer)|                NULL|        4128|    5.90|          NULL|           NULL|  false|                 NULL|                NULL|activities/118753...|          NULL|       NULL|     3907.0|21.189600000000002|             5.436|           0.0|           0.0|          7.1|           9.2|      4.2|          0.0|                  NULL|                  NULL|      115.0|           61.0|              NULL|     NULL|         NULL|   735.0|           NULL|               NULL|      NULL|          NULL|       NULL|         NULL|      NULL|              NULL|NULL|      NULL|                  NULL|       NULL|                     NULL|                     NULL|               NULL|        1.0|                   NULL|                    NULL|             NULL|               NULL|                NULL|    NULL|    NULL|            NULL|      NULL|     NULL|        NULL|                   NULL|        NULL|       NULL|      NULL|       NULL|       NULL|                     NULL|              NULL|       NULL|              NULL|    NULL|         NULL|      NULL|      NULL|        NULL|    0.0|                1.429|          0.0|                   NULL|                        NULL|          NULL|       NULL|        NULL|       NULL|         NULL|     NULL|                       NULL|      NULL|        NULL|    NULL|    NULL|       NULL|    NULL|       NULL| NULL|2024|    3| 19|      1|\n",
      "|11110178580|2024-03-05 14:42:32|Afternoon Footbal...|Football (Soccer)|                NULL|        3570|    5.59|          NULL|           NULL|  false|                 NULL|                NULL|activities/118753...|          NULL|       NULL|     3554.0|           22.9248|            5.6664|           0.0|           0.0|          7.9|           9.6|      6.1|          0.0|                  NULL|                  NULL|      113.0|           61.0|              NULL|     NULL|         NULL|   705.0|           NULL|               NULL|      NULL|          NULL|       NULL|         NULL|      NULL|              NULL|NULL|      NULL|                  NULL|       NULL|                     NULL|                     NULL|               NULL|        1.0|                   NULL|                    NULL|             NULL|               NULL|                NULL|    NULL|    NULL|            NULL|      NULL|     NULL|        NULL|                   NULL|        NULL|       NULL|      NULL|       NULL|       NULL|                     NULL|              NULL|       NULL|              NULL|    NULL|         NULL|      NULL|      NULL|        NULL|    0.0|                1.567|          0.0|                   NULL|                        NULL|          NULL|       NULL|        NULL|       NULL|         NULL|     NULL|                       NULL|      NULL|        NULL|    NULL|    NULL|       NULL|    NULL|       NULL| NULL|2024|    3|  5|      1|\n",
      "|11110178586|2024-03-19 14:50:47|      Afternoon Ride|             Ride|                NULL|        6405|   22.22|          NULL|           NULL|  false|                 NULL|      Czarna strzała|activities/118753...|          NULL|       NULL|     4845.0|29.933999999999997|           16.5132|         176.0|          44.0|          0.4|         141.6|     49.5|          0.6|                  NULL|                  NULL|       NULL|           NULL|              NULL|     NULL|         NULL|   745.0|           NULL|               NULL|      NULL|          NULL|       NULL|         NULL|      NULL|              NULL|NULL|      NULL|                  NULL|       NULL|                      0.0|                     NULL|               NULL|        1.0|                   NULL|                    NULL|             NULL|               NULL|                NULL|    NULL|    NULL|            NULL|      NULL|     NULL|        NULL|                   NULL|        NULL|       NULL|      NULL|1.4104308E7|       NULL|                     NULL|              NULL|       NULL|              NULL|    NULL|         NULL|      NULL|      NULL|        NULL|    0.0|                 3.47|         90.9|                   NULL|                        NULL|          NULL|       NULL|        NULL|       NULL|         NULL|     NULL|                       NULL|      NULL|        NULL|    NULL|    NULL|       NULL|    NULL|       NULL| NULL|2024|    3| 19|      1|\n",
      "|11110178588|2024-03-30 16:07:05|       Afternoon Run|              Run|                NULL|        3735|   10.08|          NULL|           NULL|  false|                 NULL|HOKA Clifton 9 Po...|activities/118753...|          NULL|       NULL|     3735.0|           14.1984|            9.7164|          47.0|          46.0|         34.4|          77.4|      9.7|          0.0|                  NULL|                  NULL|       85.0|           79.0|              NULL|     NULL|        329.0|   740.0|           NULL|               NULL| 1228860.0|          NULL|       NULL|         NULL|      NULL|              NULL|NULL|      NULL|                 332.0|     3736.0|                      0.0|                     NULL|               NULL|        1.0|                10150.8|                    NULL|             NULL|               NULL|                NULL|    NULL|    NULL|            NULL|      NULL|     NULL|        NULL|                   NULL|        NULL|       NULL|      NULL|       NULL|1.7243084E7|                     NULL|              NULL|       NULL|              NULL|    NULL|         NULL|      NULL|      NULL|        NULL|    0.0|                2.699|         71.9|                   NULL|                        NULL|          NULL|     9884.0|        NULL|       NULL|        647.0|    250.0|                      2.718|      NULL|        NULL|    NULL|    NULL|       NULL|    NULL|       NULL| NULL|2024|    3| 30|      5|\n",
      "|11110178590|2024-04-01 14:47:07|       Afternoon Run|              Run|                NULL|        3614|    9.44|          NULL|           NULL|  false|                 NULL|HOKA Clifton 9 Po...|activities/118753...|          NULL|       NULL|     3614.0|           13.4496|            9.4068|          43.0|          41.0|         35.6|          79.8|      6.7|          0.0|                  NULL|                  NULL|       83.0|           79.0|              NULL|     NULL|        321.0|   775.0|           NULL|               NULL| 1158615.0|          NULL|       NULL|         NULL|      NULL|              NULL|NULL|      NULL|                 321.0|     3615.0|                      0.0|                     NULL|               NULL|        1.0|                 9506.9|                    NULL|             NULL|               NULL|                NULL|    NULL|    NULL|            NULL|      NULL|     NULL|        NULL|                   NULL|        NULL|       NULL|      NULL|       NULL|1.7243084E7|                     NULL|              NULL|       NULL|              NULL|    NULL|         NULL|      NULL|      NULL|        NULL|    0.0|                2.613|        397.7|                   NULL|                        NULL|          NULL|     9604.0|        NULL|       NULL|        584.0|    241.0|                      2.631|      NULL|        NULL|    NULL|    NULL|       NULL|    NULL|       NULL| NULL|2024|    4|  1|      0|\n",
      "|11110178599|2024-03-29 09:51:14|        Morning Ride|             Ride|                NULL|        6090|   19.57|          NULL|           NULL|  false|                 NULL|      Czarna strzała|activities/118753...|          NULL|       NULL|     4584.0|31.921200000000002|           15.3756|         143.0|         152.0|          3.8|          41.8|     44.1|         -0.1|                  NULL|                  NULL|       NULL|           NULL|              NULL|     NULL|         NULL|   512.0|           NULL|               NULL|      NULL|          NULL|       NULL|         NULL|      NULL|              NULL|NULL|      NULL|                  NULL|       NULL|                      0.0|                     NULL|               NULL|        1.0|                   NULL|                    NULL|             NULL|               NULL|                NULL|    NULL|    NULL|            NULL|      NULL|     NULL|        NULL|                   NULL|        NULL|       NULL|      NULL|1.4104308E7|       NULL|                     NULL|              NULL|       NULL|              NULL|    NULL|         NULL|      NULL|      NULL|        NULL|    0.0|                3.215|       2409.5|                   NULL|                        NULL|          NULL|       NULL|        NULL|       NULL|         NULL|     NULL|                       NULL|      NULL|        NULL|    NULL|    NULL|       NULL|    NULL|       NULL| NULL|2024|    3| 29|      4|\n",
      "+-----------+-------------------+--------------------+-----------------+--------------------+------------+--------+--------------+---------------+-------+---------------------+--------------------+--------------------+--------------+-----------+-----------+------------------+------------------+--------------+--------------+-------------+--------------+---------+-------------+----------------------+----------------------+-----------+---------------+------------------+---------+-------------+--------+---------------+-------------------+----------+--------------+-----------+-------------+----------+------------------+----+----------+----------------------+-----------+-------------------------+-------------------------+-------------------+-----------+-----------------------+------------------------+-----------------+-------------------+--------------------+--------+--------+----------------+----------+---------+------------+-----------------------+------------+-----------+----------+-----------+-----------+-------------------------+------------------+-----------+------------------+--------+-------------+----------+----------+------------+-------+---------------------+-------------+-----------------------+----------------------------+--------------+-----------+------------+-----------+-------------+---------+---------------------------+----------+------------+--------+--------+-----------+--------+-----------+-----+----+-----+---+-------+\n",
      "only showing top 20 rows\n"
     ]
    }
   ],
   "source": [
    "activites_df.show()"
   ]
  },
  {
   "cell_type": "code",
   "execution_count": 23,
   "id": "04647245",
   "metadata": {},
   "outputs": [],
   "source": [
    "run_df = activites_df.filter(activites_df['Activity Type'] == 'Run') \\\n",
    "    .select('Activity Date', 'Year', 'Month', 'day', 'weekday', 'Elapsed Time', 'Moving Time', 'Distance', 'Max Heart Rate', 'Average Heart Rate', 'Activity Gear', 'Max Speed', 'Average Speed', 'Max Cadence', 'Average Cadence', 'Calories')"
   ]
  },
  {
   "cell_type": "code",
   "execution_count": 24,
   "id": "067b0074",
   "metadata": {},
   "outputs": [
    {
     "name": "stdout",
     "output_type": "stream",
     "text": [
      "+-------------------+----+-----+---+-------+------------+-----------+--------+--------------+------------------+--------------------+------------------+------------------+-----------+---------------+--------+\n",
      "|      Activity Date|Year|Month|day|weekday|Elapsed Time|Moving Time|Distance|Max Heart Rate|Average Heart Rate|       Activity Gear|         Max Speed|     Average Speed|Max Cadence|Average Cadence|Calories|\n",
      "+-------------------+----+-----+---+-------+------------+-----------+--------+--------------+------------------+--------------------+------------------+------------------+-----------+---------------+--------+\n",
      "|2024-02-26 16:43:31|2024|    2| 26|      0|        2721|     2721.0|    7.06|          NULL|              NULL|HOKA Clifton 9 Po...|           15.0624|            9.3492|       88.0|           81.0|   550.0|\n",
      "|2024-03-30 16:07:05|2024|    3| 30|      5|        3735|     3735.0|   10.08|          NULL|              NULL|HOKA Clifton 9 Po...|           14.1984|            9.7164|       85.0|           79.0|   740.0|\n",
      "|2024-04-01 14:47:07|2024|    4|  1|      0|        3614|     3614.0|    9.44|          NULL|              NULL|HOKA Clifton 9 Po...|           13.4496|            9.4068|       83.0|           79.0|   775.0|\n",
      "|2024-02-29 19:29:47|2024|    2| 29|      3|        2705|     2705.0|    6.85|          NULL|              NULL|HOKA Clifton 9 Po...|           14.7528| 9.126000000000001|       86.0|           79.0|   554.0|\n",
      "|2024-03-02 21:24:49|2024|    3|  2|      5|        6636|     6636.0|   16.30|          NULL|              NULL|HOKA Clifton 9 Po...|           13.9536|            8.8452|       83.0|           78.0|  1276.0|\n",
      "|2024-03-12 18:55:19|2024|    3| 12|      1|        3632|     3632.0|    9.34|          NULL|              NULL|HOKA Clifton 9 Po...|             13.32|            9.2592|       83.0|           78.0|   722.0|\n",
      "|2024-02-24 13:56:51|2024|    2| 24|      5|        4516|     4516.0|   11.27|          NULL|              NULL|HOKA Clifton 9 Po...|13.572000000000001|            8.9892|       85.0|           79.0|  1063.0|\n",
      "|2024-03-15 17:34:25|2024|    3| 15|      4|        3615|     3615.0|    9.30|          NULL|              NULL|HOKA Clifton 9 Po...|14.306400000000002|            9.2628|       84.0|           79.0|   772.0|\n",
      "|2024-03-25 10:48:37|2024|    3| 25|      0|        6290|     5883.0|   13.59|          NULL|              NULL|HOKA Clifton 9 Po...|           11.7936|            8.3196|       86.0|           78.0|  1059.0|\n",
      "|2024-04-08 11:30:12|2024|    4|  8|      0|        5406|     5406.0|   13.63|         172.0|             157.0|HOKA Clifton 9 Po...|           14.4432|            9.0756|       86.0|           78.0|  1127.0|\n",
      "|2024-04-11 18:05:52|2024|    4| 11|      3|        3033|     3033.0|    7.90|         166.0|             148.0|HOKA Clifton 9 Po...|           15.7968|            9.3816|       88.0|           79.0|   625.0|\n",
      "|2024-04-13 07:02:14|2024|    4| 13|      5|        1480|     1480.0|    4.99|         173.0|             164.0|HOKA Clifton 9 Po...|           16.7832|           12.1464|       88.0|           83.0|   370.0|\n",
      "|2024-04-18 17:43:18|2024|    4| 18|      3|        3016|     3016.0|    8.18|         165.0|             147.0|HOKA Clifton 9 Po...|           14.6952| 9.763200000000001|       86.0|           79.0|   633.0|\n",
      "|2024-04-22 08:54:15|2024|    4| 22|      0|        4820|     4812.0|   12.73|         140.0|             121.0|HOKA Clifton 9 Po...|           14.1264|             9.522|       84.0|           79.0|   882.0|\n",
      "|2024-04-26 22:56:50|2024|    4| 26|      4|        1486|     1486.0|    4.70|         167.0|             158.0|HOKA Clifton 9 Po...|           14.0544|           11.3868|       91.0|           81.0|   349.0|\n",
      "|2024-04-26 23:58:43|2024|    4| 26|      4|         848|      848.0|    2.77|         197.0|             188.0|HOKA Clifton 9 Po...|           21.3408|           11.7864|       94.0|           84.0|   227.0|\n",
      "|2024-04-29 08:41:11|2024|    4| 29|      0|        2717|     2717.0|    7.47|         174.0|             152.0|HOKA Clifton 9 Po...|14.961599999999999|               9.9|       88.0|           79.0|   587.0|\n",
      "|2024-05-02 12:17:36|2024|    5|  2|      3|        3306|     3302.0|    8.99|         168.0|             156.0|HOKA Clifton 9 Po...|           13.4784|              9.81|       85.0|           79.0|   730.0|\n",
      "|2024-05-06 06:54:37|2024|    5|  6|      0|        3177|     3177.0|    9.08|         172.0|             153.0|HOKA Clifton 9 Po...|15.026400000000002|10.299600000000002|      112.0|           78.0|   707.0|\n",
      "|2024-05-10 16:15:40|2024|    5| 10|      4|        2527|     2527.0|    7.16|         165.0|             139.0|HOKA Clifton 9 Po...|           17.6616|           10.2024|       87.0|           78.0|   531.0|\n",
      "+-------------------+----+-----+---+-------+------------+-----------+--------+--------------+------------------+--------------------+------------------+------------------+-----------+---------------+--------+\n",
      "only showing top 20 rows\n"
     ]
    }
   ],
   "source": [
    "run_df.show()"
   ]
  },
  {
   "cell_type": "code",
   "execution_count": 25,
   "id": "20ac043d",
   "metadata": {},
   "outputs": [],
   "source": [
    "run_df.toPandas().to_csv('data/raw/raw_run_data.csv', index=False)"
   ]
  },
  {
   "cell_type": "code",
   "execution_count": 26,
   "id": "59b56473",
   "metadata": {},
   "outputs": [],
   "source": [
    "bike_df = activites_df.filter(activites_df['Activity Type'] == 'Ride') \\\n",
    "    .select('Activity Date', 'Year', 'Month', 'day', 'weekday', 'Elapsed Time', 'Moving Time', 'Distance', 'Max Heart Rate', 'Average Heart Rate', 'Activity Gear', 'Max Speed', 'Average Speed', 'Max Cadence', 'Average Cadence', 'Calories')"
   ]
  },
  {
   "cell_type": "code",
   "execution_count": 27,
   "id": "2d0ad9f9",
   "metadata": {},
   "outputs": [
    {
     "name": "stdout",
     "output_type": "stream",
     "text": [
      "+-------------------+----+-----+---+-------+------------+-----------+--------+--------------+------------------+--------------+------------------+------------------+-----------+---------------+--------+\n",
      "|      Activity Date|Year|Month|day|weekday|Elapsed Time|Moving Time|Distance|Max Heart Rate|Average Heart Rate| Activity Gear|         Max Speed|     Average Speed|Max Cadence|Average Cadence|Calories|\n",
      "+-------------------+----+-----+---+-------+------------+-----------+--------+--------------+------------------+--------------+------------------+------------------+-----------+---------------+--------+\n",
      "|2024-03-25 08:07:25|2024|    3| 25|      0|        8167|     7243.0|   45.19|          NULL|              NULL|Czarna strzała|33.076800000000006|22.464000000000002|       NULL|           NULL|  1113.0|\n",
      "|2024-03-29 12:16:05|2024|    3| 29|      4|        5749|     4195.0|   18.19|          NULL|              NULL|Czarna strzała|           27.8352|15.613199999999999|       NULL|           NULL|   436.0|\n",
      "|2024-03-19 14:50:47|2024|    3| 19|      1|        6405|     4845.0|   22.22|          NULL|              NULL|Czarna strzała|29.933999999999997|           16.5132|       NULL|           NULL|   745.0|\n",
      "|2024-03-29 09:51:14|2024|    3| 29|      4|        6090|     4584.0|   19.57|          NULL|              NULL|Czarna strzała|31.921200000000002|           15.3756|       NULL|           NULL|   512.0|\n",
      "|2024-03-19 08:22:45|2024|    3| 19|      1|        5118|     4310.0|   23.43|          NULL|              NULL|Czarna strzała| 37.93320000000001|           19.5732|       NULL|           NULL|   591.0|\n",
      "|2024-04-09 07:31:05|2024|    4|  9|      1|        4683|     4287.0|   23.80|         154.0|             127.0|Czarna strzała|           50.3568|19.987199999999998|       NULL|           NULL|   593.0|\n",
      "|2024-04-09 13:55:43|2024|    4|  9|      1|        4634|     4337.0|   21.38|         156.0|             132.0|Czarna strzała|32.504400000000004|           17.7516|       NULL|           NULL|   653.0|\n",
      "|2024-04-23 06:30:39|2024|    4| 23|      1|        4290|     3922.0|   22.68|         155.0|             132.0|Czarna strzała|           50.8176|           20.8224|       NULL|           NULL|   625.0|\n",
      "|2024-04-23 13:46:15|2024|    4| 23|      1|        5902|     4516.0|   22.12|         159.0|             132.0|Czarna strzała|29.628000000000004|17.636400000000002|       NULL|           NULL|   746.0|\n",
      "|2024-04-26 23:23:07|2024|    4| 26|      4|        2073|     2073.0|   15.97|         167.0|             153.0|Czarna strzała|40.845600000000005|            27.738|       NULL|           NULL|   403.0|\n",
      "|2024-05-04 08:42:43|2024|    5|  4|      5|        6975|     6521.0|   40.43|         169.0|             141.0|Czarna strzała|           44.8272|           22.3236|       NULL|           NULL|  1051.0|\n",
      "|2024-05-13 09:16:43|2024|    5| 13|      0|        7389|     6780.0|   42.59|         167.0|             142.0|Czarna strzała|            43.272|           22.6188|       NULL|           NULL|  1075.0|\n",
      "|2024-02-17 18:20:59|2024|    2| 17|      5|        7755|     7313.0|   39.17|          NULL|              NULL|Czarna strzała|             33.84|           19.2852|       NULL|           NULL|   534.0|\n",
      "|2024-02-01 12:50:18|2024|    2|  1|      3|        4169|     4035.0|   22.44|          NULL|              NULL|Czarna strzała|             36.36|20.023200000000003|       NULL|           NULL|   339.0|\n",
      "|2024-02-15 12:02:11|2024|    2| 15|      3|        4390|     4134.0|   24.72|          NULL|              NULL|Czarna strzała|           44.8812|21.528000000000002|       NULL|           NULL|   430.0|\n",
      "|2024-05-28 08:31:15|2024|    5| 28|      1|         830|      650.0|    3.60|         163.0|             134.0|Czarna strzała|           37.5156|           19.9764|       NULL|           NULL|   144.0|\n",
      "|2024-05-28 08:46:12|2024|    5| 28|      1|        3732|     3732.0|   24.67|         160.0|             135.0|Czarna strzała|            36.684|           23.8032|       NULL|           NULL|   562.0|\n",
      "|2024-05-28 09:49:21|2024|    5| 28|      1|         840|      730.0|    3.71|         153.0|             126.0|Czarna strzała|33.793200000000006|           18.3168|       NULL|           NULL|   130.0|\n",
      "|2024-05-31 07:45:17|2024|    5| 31|      4|       34014|    26314.0|  150.40|         168.0|             137.0|Czarna strzała|           46.9512|           20.5776|       NULL|           NULL|  3847.0|\n",
      "|2024-06-26 05:09:15|2024|    6| 26|      2|       12292|    11263.0|   71.46|         157.0|             137.0|Czarna strzała|           46.0944|            22.842|       NULL|           NULL|  1686.0|\n",
      "+-------------------+----+-----+---+-------+------------+-----------+--------+--------------+------------------+--------------+------------------+------------------+-----------+---------------+--------+\n",
      "only showing top 20 rows\n"
     ]
    }
   ],
   "source": [
    "bike_df.show()"
   ]
  },
  {
   "cell_type": "code",
   "execution_count": 28,
   "id": "688f6503",
   "metadata": {},
   "outputs": [],
   "source": [
    "bike_df.toPandas().to_csv('data/raw/raw_bike_data.csv', index=False)"
   ]
  },
  {
   "cell_type": "code",
   "execution_count": 29,
   "id": "f79d0e5e",
   "metadata": {},
   "outputs": [],
   "source": [
    "swim_df = activites_df.filter(activites_df['Activity Type'] == 'Swim') \\\n",
    "    .select('Activity Date', 'Year', 'Month', 'day', 'weekday', 'Elapsed Time', 'Moving Time', 'Distance', 'Max Heart Rate', 'Average Heart Rate', 'Max Speed', 'Average Speed', 'Max Cadence', 'Average Cadence', 'Calories')"
   ]
  },
  {
   "cell_type": "code",
   "execution_count": 30,
   "id": "c86bb894",
   "metadata": {},
   "outputs": [
    {
     "name": "stdout",
     "output_type": "stream",
     "text": [
      "+-------------------+----+-----+---+-------+------------+-----------+--------+--------------+------------------+------------------+------------------+-----------+---------------+--------+\n",
      "|      Activity Date|Year|Month|day|weekday|Elapsed Time|Moving Time|Distance|Max Heart Rate|Average Heart Rate|         Max Speed|     Average Speed|Max Cadence|Average Cadence|Calories|\n",
      "+-------------------+----+-----+---+-------+------------+-----------+--------+--------------+------------------+------------------+------------------+-----------+---------------+--------+\n",
      "|2024-03-25 06:01:54|2024|    3| 25|      0|        2637|     2631.0|   1,250|          NULL|              NULL|            5.2992|              1.71|       NULL|           21.0|   315.0|\n",
      "|2024-03-07 17:03:21|2024|    3|  7|      3|        2688|     2629.0|     700|          NULL|              NULL| 5.630400000000001|0.9576000000000001|       NULL|           17.0|   282.0|\n",
      "|2024-04-04 16:01:19|2024|    4|  4|      3|        2670|     2590.0|     950|          NULL|              NULL|            4.2912|            1.3212|       NULL|           22.0|   338.0|\n",
      "|2024-02-29 16:01:32|2024|    2| 29|      3|        2675|     2623.0|     700|          NULL|              NULL|           10.0008|            0.9612|       NULL|           21.0|   230.0|\n",
      "|2024-03-14 17:02:34|2024|    3| 14|      3|        2625|     2574.0|     900|          NULL|              NULL|6.0047999999999995|              1.26|       NULL|           28.0|   318.0|\n",
      "|2024-03-04 15:16:41|2024|    3|  4|      0|        2702|     2680.0|     750|          NULL|              NULL|               9.0|1.0080000000000002|       NULL|           21.0|   209.0|\n",
      "|2024-02-26 15:15:29|2024|    2| 26|      0|        2704|     2672.0|     225|          NULL|              NULL|               9.0|            0.3024|       NULL|            0.0|   289.0|\n",
      "|2024-04-02 09:46:29|2024|    4|  2|      1|        2658|     2617.0|   1,175|          NULL|              NULL| 6.429600000000001|            1.6164|       NULL|           22.0|   377.0|\n",
      "|2024-03-18 15:16:33|2024|    3| 18|      0|        2723|     2628.0|     900|          NULL|              NULL|            6.9264|            1.2312|       NULL|           21.0|   307.0|\n",
      "|2024-03-21 17:03:11|2024|    3| 21|      3|        2549|     2483.0|     975|          NULL|              NULL|            6.9264|            1.4148|       NULL|           21.0|   321.0|\n",
      "|2024-03-11 15:15:38|2024|    3| 11|      0|        3045|     2576.0|     900|          NULL|              NULL|            6.9264|            1.2564|       NULL|           22.0|   247.0|\n",
      "|2024-03-28 16:01:22|2024|    3| 28|      3|        2713|     2676.0|   1,000|          NULL|              NULL| 7.502400000000001|            1.3464|       NULL|           23.0|   330.0|\n",
      "|2024-04-08 09:00:32|2024|    4|  8|      0|        2706|     2685.0|   1,800|         163.0|             142.0|2.9088000000000003|2.4120000000000004|       NULL|           22.0|   468.0|\n",
      "|2024-04-11 16:01:08|2024|    4| 11|      3|        2705|     2632.0|   1,100|         173.0|             133.0|             5.004|            1.5048|       NULL|           22.0|   319.0|\n",
      "|2024-04-15 09:01:10|2024|    4| 15|      0|        2093|     1941.0|   1,175|         183.0|             147.0|            6.9264|             2.178|       NULL|           22.0|   349.0|\n",
      "|2024-04-18 16:00:20|2024|    4| 18|      3|        2719|     2706.0|   1,250|         174.0|             131.0| 6.429600000000001|            1.6632|       NULL|           21.0|   346.0|\n",
      "|2024-04-22 14:15:42|2024|    4| 22|      0|        2702|     2627.0|   1,025|         176.0|             128.0| 7.502400000000001|1.4040000000000001|       NULL|           26.0|   307.0|\n",
      "|2024-04-25 17:30:34|2024|    4| 25|      3|        2653|     2647.0|   1,525|         164.0|             141.0|4.7376000000000005|            2.0736|       NULL|           20.0|   456.0|\n",
      "|2024-04-29 04:59:26|2024|    4| 29|      0|        2795|     2769.0|   1,625|         153.0|             132.0| 7.502400000000001|            2.1132|       NULL|           22.0|   403.0|\n",
      "|2024-05-02 09:46:11|2024|    5|  2|      3|        2631|     2514.0|   1,600|         149.0|             123.0|             13.32|            2.2896|       NULL|           20.0|   363.0|\n",
      "+-------------------+----+-----+---+-------+------------+-----------+--------+--------------+------------------+------------------+------------------+-----------+---------------+--------+\n",
      "only showing top 20 rows\n"
     ]
    }
   ],
   "source": [
    "swim_df.show()"
   ]
  },
  {
   "cell_type": "code",
   "execution_count": 31,
   "id": "af544ff8",
   "metadata": {},
   "outputs": [],
   "source": [
    "swim_df.toPandas().to_csv('data/raw/raw_swim_data.csv', index=False)"
   ]
  }
 ],
 "metadata": {
  "kernelspec": {
   "display_name": ".venv",
   "language": "python",
   "name": "python3"
  },
  "language_info": {
   "codemirror_mode": {
    "name": "ipython",
    "version": 3
   },
   "file_extension": ".py",
   "mimetype": "text/x-python",
   "name": "python",
   "nbconvert_exporter": "python",
   "pygments_lexer": "ipython3",
   "version": "3.12.0"
  }
 },
 "nbformat": 4,
 "nbformat_minor": 5
}
