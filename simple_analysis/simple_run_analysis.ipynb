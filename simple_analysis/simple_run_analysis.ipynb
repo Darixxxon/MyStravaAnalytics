{
 "cells": [
  {
   "cell_type": "code",
   "execution_count": 25,
   "id": "ecc85323",
   "metadata": {},
   "outputs": [],
   "source": [
    "import pyspark\n",
    "from pyspark.sql import functions as F\n"
   ]
  },
  {
   "cell_type": "code",
   "execution_count": 2,
   "id": "382e3a5e",
   "metadata": {},
   "outputs": [],
   "source": [
    "spark = pyspark.sql.SparkSession.builder.appName(\"Strava Analysis\").getOrCreate()"
   ]
  },
  {
   "cell_type": "code",
   "execution_count": null,
   "id": "7190874e",
   "metadata": {},
   "outputs": [],
   "source": [
    "# Download data frame\n",
    "run_df = spark.read.csv(\"../data/final/strava_run_activities.csv\", header=True, inferSchema=True)"
   ]
  },
  {
   "cell_type": "code",
   "execution_count": null,
   "id": "b353d5df",
   "metadata": {},
   "outputs": [],
   "source": [
    "# Create a temporary view for SQL queries\n",
    "run_df.createOrReplaceTempView(\"run_df\")"
   ]
  },
  {
   "cell_type": "code",
   "execution_count": null,
   "id": "46d8707b",
   "metadata": {},
   "outputs": [
    {
     "name": "stdout",
     "output_type": "stream",
     "text": [
      "+--------------------+-----+\n",
      "|       Activity Gear|count|\n",
      "+--------------------+-----+\n",
      "|    HOKA Mach 6 Biel|   44|\n",
      "| HOKA Bondi 8 Błękit|   32|\n",
      "|                NULL|   40|\n",
      "|HOKA Clifton 9 Po...|  117|\n",
      "+--------------------+-----+\n",
      "\n"
     ]
    }
   ],
   "source": [
    "# Example analysis: Count runs by gear\n",
    "run_df.groupBy('Activity Gear').count().show()"
   ]
  },
  {
   "cell_type": "code",
   "execution_count": null,
   "id": "9b55dc4b",
   "metadata": {},
   "outputs": [
    {
     "name": "stdout",
     "output_type": "stream",
     "text": [
      "+--------------------+-----+\n",
      "|       Activity Gear|count|\n",
      "+--------------------+-----+\n",
      "|    HOKA Mach 6 Biel|   44|\n",
      "| HOKA Bondi 8 Błękit|   32|\n",
      "|                NULL|   40|\n",
      "|HOKA Clifton 9 Po...|  117|\n",
      "+--------------------+-----+\n",
      "\n"
     ]
    }
   ],
   "source": [
    "# Alternative SQL query to count runs by gear\n",
    "spark.sql(\"SELECT `Activity Gear`, COUNT(*) as count FROM run_df GROUP BY `Activity Gear`\").show()"
   ]
  },
  {
   "cell_type": "code",
   "execution_count": null,
   "id": "2e1e448f",
   "metadata": {},
   "outputs": [
    {
     "name": "stdout",
     "output_type": "stream",
     "text": [
      "+--------------------+------------------+\n",
      "|       Activity Gear|     sum(Distance)|\n",
      "+--------------------+------------------+\n",
      "|    HOKA Mach 6 Biel|250.61999999999986|\n",
      "| HOKA Bondi 8 Błękit|256.52000000000004|\n",
      "|                NULL|280.71999999999997|\n",
      "|HOKA Clifton 9 Po...| 802.8499999999999|\n",
      "+--------------------+------------------+\n",
      "\n"
     ]
    }
   ],
   "source": [
    "# Example analysis: Sum distances by gear\n",
    "run_df.groupBy('Activity Gear').sum('Distance').show()"
   ]
  },
  {
   "cell_type": "code",
   "execution_count": null,
   "id": "722582fc",
   "metadata": {},
   "outputs": [
    {
     "name": "stdout",
     "output_type": "stream",
     "text": [
      "+--------------------+------------------+\n",
      "|       Activity Gear|    total_distance|\n",
      "+--------------------+------------------+\n",
      "|    HOKA Mach 6 Biel|250.61999999999986|\n",
      "| HOKA Bondi 8 Błękit|256.52000000000004|\n",
      "|                NULL|280.71999999999997|\n",
      "|HOKA Clifton 9 Po...| 802.8499999999999|\n",
      "+--------------------+------------------+\n",
      "\n"
     ]
    }
   ],
   "source": [
    "# Alternative SQL query to sum distances by gear\n",
    "spark.sql(\"SELECT `Activity Gear`, SUM(Distance) as total_distance FROM run_df GROUP BY `Activity Gear`\").show()"
   ]
  },
  {
   "cell_type": "code",
   "execution_count": null,
   "id": "1ddd6697",
   "metadata": {},
   "outputs": [
    {
     "name": "stdout",
     "output_type": "stream",
     "text": [
      "+----+-----+--------------------+-----+\n",
      "|Year|Month|       Activity Gear|count|\n",
      "+----+-----+--------------------+-----+\n",
      "|2023|    8|                NULL|    4|\n",
      "|2023|    9|                NULL|   13|\n",
      "|2023|   10|                NULL|    7|\n",
      "|2023|   11|                NULL|    4|\n",
      "|2023|   12|                NULL|    4|\n",
      "|2024|    1|                NULL|    6|\n",
      "|2024|    2|                NULL|    1|\n",
      "|2024|    2|HOKA Clifton 9 Po...|    9|\n",
      "|2024|    3|HOKA Clifton 9 Po...|    5|\n",
      "|2024|    4|HOKA Clifton 9 Po...|    9|\n",
      "|2024|    5|HOKA Clifton 9 Po...|   10|\n",
      "|2024|    6|HOKA Clifton 9 Po...|   11|\n",
      "|2024|    7|HOKA Clifton 9 Po...|    7|\n",
      "|2024|    8|HOKA Clifton 9 Po...|    4|\n",
      "|2024|    9|HOKA Clifton 9 Po...|    9|\n",
      "|2024|   10|HOKA Clifton 9 Po...|   14|\n",
      "|2024|   11|HOKA Clifton 9 Po...|   10|\n",
      "|2024|   12|HOKA Clifton 9 Po...|    9|\n",
      "|2025|    1| HOKA Bondi 8 Błękit|    5|\n",
      "|2025|    1|HOKA Clifton 9 Po...|   15|\n",
      "+----+-----+--------------------+-----+\n",
      "only showing top 20 rows\n"
     ]
    }
   ],
   "source": [
    "# Example analysis: Count runs by gear, month and year\n",
    "run_df.groupBy([\"Year\", \"Month\", \"Activity Gear\"]).count().orderBy([\"Year\", \"Month\", \"Activity Gear\"]).show()"
   ]
  },
  {
   "cell_type": "code",
   "execution_count": null,
   "id": "c23275c6",
   "metadata": {},
   "outputs": [
    {
     "name": "stdout",
     "output_type": "stream",
     "text": [
      "+----+-----+--------------------+-----+\n",
      "|Year|Month|       Activity Gear|count|\n",
      "+----+-----+--------------------+-----+\n",
      "|2023|    8|                NULL|    4|\n",
      "|2023|    9|                NULL|   13|\n",
      "|2023|   10|                NULL|    7|\n",
      "|2023|   11|                NULL|    4|\n",
      "|2023|   12|                NULL|    4|\n",
      "|2024|    1|                NULL|    6|\n",
      "|2024|    2|                NULL|    1|\n",
      "|2024|    2|HOKA Clifton 9 Po...|    9|\n",
      "|2024|    3|HOKA Clifton 9 Po...|    5|\n",
      "|2024|    4|HOKA Clifton 9 Po...|    9|\n",
      "|2024|    5|HOKA Clifton 9 Po...|   10|\n",
      "|2024|    6|HOKA Clifton 9 Po...|   11|\n",
      "|2024|    7|HOKA Clifton 9 Po...|    7|\n",
      "|2024|    8|HOKA Clifton 9 Po...|    4|\n",
      "|2024|    9|HOKA Clifton 9 Po...|    9|\n",
      "|2024|   10|HOKA Clifton 9 Po...|   14|\n",
      "|2024|   11|HOKA Clifton 9 Po...|   10|\n",
      "|2024|   12|HOKA Clifton 9 Po...|    9|\n",
      "|2025|    1| HOKA Bondi 8 Błękit|    5|\n",
      "|2025|    1|HOKA Clifton 9 Po...|   15|\n",
      "+----+-----+--------------------+-----+\n",
      "only showing top 20 rows\n"
     ]
    }
   ],
   "source": [
    "# Alternative SQL query to count runs by gear, month and year\n",
    "spark.sql(\"SELECT `Year`, `Month`, `Activity Gear`, COUNT(*) as count FROM run_df GROUP BY `Year`, `Month`, `Activity Gear` ORDER BY `Year`, `Month`, `Activity Gear`\").show()"
   ]
  },
  {
   "cell_type": "code",
   "execution_count": null,
   "id": "f4304437",
   "metadata": {},
   "outputs": [
    {
     "name": "stdout",
     "output_type": "stream",
     "text": [
      "+----+-----+-----+\n",
      "|Year|Month|count|\n",
      "+----+-----+-----+\n",
      "|2023|    8|    4|\n",
      "|2023|    9|   13|\n",
      "|2023|   10|    7|\n",
      "|2023|   11|    4|\n",
      "|2023|   12|    4|\n",
      "|2024|    1|    6|\n",
      "|2024|    2|   10|\n",
      "|2024|    3|    5|\n",
      "|2024|    4|    9|\n",
      "|2024|    5|   10|\n",
      "|2024|    6|   11|\n",
      "|2024|    7|    7|\n",
      "|2024|    8|    4|\n",
      "|2024|    9|    9|\n",
      "|2024|   10|   14|\n",
      "|2024|   11|   10|\n",
      "|2024|   12|    9|\n",
      "|2025|    1|   20|\n",
      "|2025|    2|   11|\n",
      "|2025|    3|   13|\n",
      "+----+-----+-----+\n",
      "only showing top 20 rows\n"
     ]
    }
   ],
   "source": [
    "# Example analysis: Count runs by month and year\n",
    "run_df.groupBy(['Year', 'Month']).count().orderBy(['Year', 'Month']).show()"
   ]
  },
  {
   "cell_type": "code",
   "execution_count": null,
   "id": "81714a01",
   "metadata": {},
   "outputs": [
    {
     "name": "stdout",
     "output_type": "stream",
     "text": [
      "+----+-----+-----+\n",
      "|Year|Month|count|\n",
      "+----+-----+-----+\n",
      "|2023|    8|    4|\n",
      "|2023|    9|   13|\n",
      "|2023|   10|    7|\n",
      "|2023|   11|    4|\n",
      "|2023|   12|    4|\n",
      "|2024|    1|    6|\n",
      "|2024|    2|   10|\n",
      "|2024|    3|    5|\n",
      "|2024|    4|    9|\n",
      "|2024|    5|   10|\n",
      "|2024|    6|   11|\n",
      "|2024|    7|    7|\n",
      "|2024|    8|    4|\n",
      "|2024|    9|    9|\n",
      "|2024|   10|   14|\n",
      "|2024|   11|   10|\n",
      "|2024|   12|    9|\n",
      "|2025|    1|   20|\n",
      "|2025|    2|   11|\n",
      "|2025|    3|   13|\n",
      "+----+-----+-----+\n",
      "only showing top 20 rows\n"
     ]
    }
   ],
   "source": [
    "# Alternative SQL query to count runs by month and year\n",
    "spark.sql(\"SELECT `Year`, `Month`, COUNT(*) as count FROM run_df GROUP BY `Year`, `Month` ORDER BY `Year`, `Month`\").show()"
   ]
  },
  {
   "cell_type": "code",
   "execution_count": null,
   "id": "9fb63a1d",
   "metadata": {},
   "outputs": [
    {
     "name": "stdout",
     "output_type": "stream",
     "text": [
      "+----+------------------+\n",
      "|Year|     sum(Distance)|\n",
      "+----+------------------+\n",
      "|2023|205.48999999999998|\n",
      "|2024| 729.0400000000001|\n",
      "|2025| 656.1799999999998|\n",
      "+----+------------------+\n",
      "\n"
     ]
    }
   ],
   "source": [
    "# Example analysis: Sum distances by year\n",
    "run_df.groupBy(\"Year\").sum(\"Distance\").orderBy(\"Year\").show()"
   ]
  },
  {
   "cell_type": "code",
   "execution_count": null,
   "id": "68eeff88",
   "metadata": {},
   "outputs": [
    {
     "name": "stdout",
     "output_type": "stream",
     "text": [
      "+----+------------------+\n",
      "|Year|    total_distance|\n",
      "+----+------------------+\n",
      "|2023|205.48999999999998|\n",
      "|2024| 729.0400000000001|\n",
      "|2025| 656.1799999999998|\n",
      "+----+------------------+\n",
      "\n"
     ]
    }
   ],
   "source": [
    "# Alternative SQL query to sum distances by year\n",
    "spark.sql(\"SELECT `Year`, SUM(`Distance`) as total_distance FROM run_df GROUP BY `Year` ORDER BY `Year`\").show()"
   ]
  },
  {
   "cell_type": "code",
   "execution_count": null,
   "id": "e07370e7",
   "metadata": {},
   "outputs": [
    {
     "name": "stdout",
     "output_type": "stream",
     "text": [
      "+-------+-----+\n",
      "|Weekday|count|\n",
      "+-------+-----+\n",
      "|      0|   36|\n",
      "|      1|   18|\n",
      "|      2|   26|\n",
      "|      3|   26|\n",
      "|      4|   14|\n",
      "|      5|   80|\n",
      "|      6|   33|\n",
      "+-------+-----+\n",
      "\n"
     ]
    }
   ],
   "source": [
    "# Example analysis: Count runs by weekday\n",
    "run_df.groupBy(\"Weekday\").count().orderBy(\"Weekday\").show()"
   ]
  },
  {
   "cell_type": "code",
   "execution_count": null,
   "id": "2953feaa",
   "metadata": {},
   "outputs": [
    {
     "name": "stdout",
     "output_type": "stream",
     "text": [
      "+-------+-----+\n",
      "|Weekday|count|\n",
      "+-------+-----+\n",
      "|      0|   36|\n",
      "|      1|   18|\n",
      "|      2|   26|\n",
      "|      3|   26|\n",
      "|      4|   14|\n",
      "|      5|   80|\n",
      "|      6|   33|\n",
      "+-------+-----+\n",
      "\n"
     ]
    }
   ],
   "source": [
    "# Alternative SQL query to count runs by weekday\n",
    "spark.sql(\"SELECT `Weekday`, COUNT(*) as count FROM run_df GROUP BY `Weekday` ORDER BY `Weekday`\").show()"
   ]
  },
  {
   "cell_type": "code",
   "execution_count": null,
   "id": "25f9d0b6",
   "metadata": {},
   "outputs": [
    {
     "name": "stdout",
     "output_type": "stream",
     "text": [
      "+----+-----+--------------------+------------------+\n",
      "|Year|Month|       Activity Gear|     sum(Distance)|\n",
      "+----+-----+--------------------+------------------+\n",
      "|2023|    8|                NULL|15.870000000000001|\n",
      "|2023|    9|                NULL|              71.9|\n",
      "|2023|   10|                NULL| 53.94000000000001|\n",
      "|2023|   11|                NULL|29.159999999999997|\n",
      "|2023|   12|                NULL|             34.62|\n",
      "|2024|    1|                NULL|55.879999999999995|\n",
      "|2024|    2|                NULL|              9.34|\n",
      "|2024|    2|HOKA Clifton 9 Po...|             76.23|\n",
      "|2024|    3|HOKA Clifton 9 Po...|             58.61|\n",
      "|2024|    4|HOKA Clifton 9 Po...|             71.81|\n",
      "|2024|    5|HOKA Clifton 9 Po...|             74.39|\n",
      "|2024|    6|HOKA Clifton 9 Po...| 66.60000000000001|\n",
      "|2024|    7|HOKA Clifton 9 Po...| 70.16999999999999|\n",
      "|2024|    8|HOKA Clifton 9 Po...|             35.81|\n",
      "|2024|    9|HOKA Clifton 9 Po...|             45.07|\n",
      "|2024|   10|HOKA Clifton 9 Po...| 69.60999999999999|\n",
      "|2024|   11|HOKA Clifton 9 Po...|54.019999999999996|\n",
      "|2024|   12|HOKA Clifton 9 Po...|              41.5|\n",
      "|2025|    1| HOKA Bondi 8 Błękit|             36.11|\n",
      "|2025|    1|HOKA Clifton 9 Po...| 94.10000000000001|\n",
      "+----+-----+--------------------+------------------+\n",
      "only showing top 20 rows\n"
     ]
    }
   ],
   "source": [
    "# Example analysis: Sum distances by gear, month and year\n",
    "run_df.groupBy([\"Year\", \"Month\", \"Activity Gear\"]).sum(\"Distance\").orderBy([\"Year\", \"Month\", \"Activity Gear\"]).show()"
   ]
  },
  {
   "cell_type": "code",
   "execution_count": null,
   "id": "6c5c0fd9",
   "metadata": {},
   "outputs": [
    {
     "name": "stdout",
     "output_type": "stream",
     "text": [
      "+----+-----+--------------------+------------------+\n",
      "|Year|Month|       Activity Gear|    total_distance|\n",
      "+----+-----+--------------------+------------------+\n",
      "|2023|    8|                NULL|15.870000000000001|\n",
      "|2023|    9|                NULL|              71.9|\n",
      "|2023|   10|                NULL| 53.94000000000001|\n",
      "|2023|   11|                NULL|29.159999999999997|\n",
      "|2023|   12|                NULL|             34.62|\n",
      "|2024|    1|                NULL|55.879999999999995|\n",
      "|2024|    2|                NULL|              9.34|\n",
      "|2024|    2|HOKA Clifton 9 Po...|             76.23|\n",
      "|2024|    3|HOKA Clifton 9 Po...|             58.61|\n",
      "|2024|    4|HOKA Clifton 9 Po...|             71.81|\n",
      "|2024|    5|HOKA Clifton 9 Po...|             74.39|\n",
      "|2024|    6|HOKA Clifton 9 Po...| 66.60000000000001|\n",
      "|2024|    7|HOKA Clifton 9 Po...| 70.16999999999999|\n",
      "|2024|    8|HOKA Clifton 9 Po...|             35.81|\n",
      "|2024|    9|HOKA Clifton 9 Po...|             45.07|\n",
      "|2024|   10|HOKA Clifton 9 Po...| 69.60999999999999|\n",
      "|2024|   11|HOKA Clifton 9 Po...|54.019999999999996|\n",
      "|2024|   12|HOKA Clifton 9 Po...|              41.5|\n",
      "|2025|    1| HOKA Bondi 8 Błękit|             36.11|\n",
      "|2025|    1|HOKA Clifton 9 Po...| 94.10000000000001|\n",
      "+----+-----+--------------------+------------------+\n",
      "only showing top 20 rows\n"
     ]
    }
   ],
   "source": [
    "# Alternative SQL query to sum distances by gear, month and year\n",
    "spark.sql(\"SELECT `Year`, `Month`, `Activity Gear`, SUM(`Distance`) as total_distance FROM run_df GROUP BY `Year`, `Month`, `Activity Gear` ORDER BY `Year`, `Month`, `Activity Gear`\").show()"
   ]
  },
  {
   "cell_type": "code",
   "execution_count": null,
   "id": "7ee317e7",
   "metadata": {},
   "outputs": [
    {
     "name": "stdout",
     "output_type": "stream",
     "text": [
      "+--------------+-----+\n",
      "|distance_range|count|\n",
      "+--------------+-----+\n",
      "|          <=20|    3|\n",
      "|           >20|    8|\n",
      "|          <=15|   23|\n",
      "|           <=5|   80|\n",
      "|          <=10|  119|\n",
      "+--------------+-----+\n",
      "\n"
     ]
    }
   ],
   "source": [
    "# SQL query to count runs by distance ranges\n",
    "spark.sql(\"SELECT CASE WHEN `Distance` <= 5 THEN '<=5' WHEN `Distance` <= 10 THEN '<=10' WHEN `Distance` <= 15 THEN '<=15' WHEN `Distance` <= 20 THEN '<=20' ELSE '>20' END AS distance_range, COUNT(*) as count FROM run_df GROUP BY distance_range ORDER BY count\").show()"
   ]
  },
  {
   "cell_type": "code",
   "execution_count": null,
   "id": "5f6ee001",
   "metadata": {},
   "outputs": [
    {
     "name": "stdout",
     "output_type": "stream",
     "text": [
      "+----+-----+------------------+------------------+-----+\n",
      "|Year|Month|      Avg Distance|    Total Distance|Count|\n",
      "+----+-----+------------------+------------------+-----+\n",
      "|2023|    8|3.9675000000000002|15.870000000000001|    4|\n",
      "|2023|    9|5.5307692307692315|              71.9|   13|\n",
      "|2023|   10| 7.705714285714287| 53.94000000000001|    7|\n",
      "|2023|   11| 7.289999999999999|29.159999999999997|    4|\n",
      "|2023|   12|             8.655|             34.62|    4|\n",
      "|2024|    1| 9.313333333333333|55.879999999999995|    6|\n",
      "|2024|    2| 8.556999999999999|             85.57|   10|\n",
      "|2024|    3|            11.722|             58.61|    5|\n",
      "|2024|    4| 7.978888888888889|             71.81|    9|\n",
      "|2024|    5|             7.439|             74.39|   10|\n",
      "|2024|    6| 6.054545454545456| 66.60000000000001|   11|\n",
      "|2024|    7|10.024285714285712| 70.16999999999999|    7|\n",
      "|2024|    8|            8.9525|             35.81|    4|\n",
      "|2024|    9| 5.007777777777778|             45.07|    9|\n",
      "|2024|   10| 4.972142857142856| 69.60999999999999|   14|\n",
      "|2024|   11| 5.401999999999999|54.019999999999996|   10|\n",
      "|2024|   12| 4.611111111111111|              41.5|    9|\n",
      "|2025|    1|            6.5105|            130.21|   20|\n",
      "|2025|    2| 6.568181818181818|             72.25|   11|\n",
      "|2025|    3| 6.313846153846153|             82.08|   13|\n",
      "|2025|    4| 9.859166666666667|            118.31|   12|\n",
      "|2025|    5| 4.511428571428572|31.580000000000002|    7|\n",
      "|2025|    6|           5.33625|             42.69|    8|\n",
      "|2025|    7|4.1814285714285715|29.270000000000003|    7|\n",
      "|2025|    8|          7.203125|            115.25|   16|\n",
      "|2025|    9|11.513333333333334|             34.54|    3|\n",
      "+----+-----+------------------+------------------+-----+\n",
      "\n"
     ]
    }
   ],
   "source": [
    "# Example analysis: Average, total, and count of distances by month and year, ordered by total distance\n",
    "run_df.groupBy(['Year', 'Month']) \\\n",
    "    .agg(\n",
    "        F.avg('Distance').alias('Avg Distance'),\n",
    "        F.sum('Distance').alias('Total Distance'),\n",
    "        F.count('Distance').alias('Count')\n",
    "    ) \\\n",
    "    .orderBy(['Year', 'Month']) \\\n",
    "    .show()"
   ]
  },
  {
   "cell_type": "code",
   "execution_count": null,
   "id": "231f290d",
   "metadata": {},
   "outputs": [
    {
     "name": "stdout",
     "output_type": "stream",
     "text": [
      "+----+-----+------------------+------------------+-----+\n",
      "|Year|Month|      avg_distance|    total_distance|count|\n",
      "+----+-----+------------------+------------------+-----+\n",
      "|2023|    8|3.9675000000000002|15.870000000000001|    4|\n",
      "|2023|    9|5.5307692307692315|              71.9|   13|\n",
      "|2023|   10| 7.705714285714287| 53.94000000000001|    7|\n",
      "|2023|   11| 7.289999999999999|29.159999999999997|    4|\n",
      "|2023|   12|             8.655|             34.62|    4|\n",
      "|2024|    1| 9.313333333333333|55.879999999999995|    6|\n",
      "|2024|    2| 8.556999999999999|             85.57|   10|\n",
      "|2024|    3|            11.722|             58.61|    5|\n",
      "|2024|    4| 7.978888888888889|             71.81|    9|\n",
      "|2024|    5|             7.439|             74.39|   10|\n",
      "|2024|    6| 6.054545454545456| 66.60000000000001|   11|\n",
      "|2024|    7|10.024285714285712| 70.16999999999999|    7|\n",
      "|2024|    8|            8.9525|             35.81|    4|\n",
      "|2024|    9| 5.007777777777778|             45.07|    9|\n",
      "|2024|   10| 4.972142857142856| 69.60999999999999|   14|\n",
      "|2024|   11| 5.401999999999999|54.019999999999996|   10|\n",
      "|2024|   12| 4.611111111111111|              41.5|    9|\n",
      "|2025|    1|            6.5105|            130.21|   20|\n",
      "|2025|    2| 6.568181818181818|             72.25|   11|\n",
      "|2025|    3| 6.313846153846153|             82.08|   13|\n",
      "+----+-----+------------------+------------------+-----+\n",
      "only showing top 20 rows\n"
     ]
    }
   ],
   "source": [
    "# Alternative SQL query to get average, total, and count of distances by month and year\n",
    "spark.sql(\"SELECT `Year`, `Month`, AVG(`Distance`) as avg_distance, SUM(`Distance`) as total_distance, COUNT(*) as count FROM run_df GROUP BY `Year`, `Month` ORDER BY `Year`, `Month`\").show()"
   ]
  }
 ],
 "metadata": {
  "kernelspec": {
   "display_name": ".venv",
   "language": "python",
   "name": "python3"
  },
  "language_info": {
   "codemirror_mode": {
    "name": "ipython",
    "version": 3
   },
   "file_extension": ".py",
   "mimetype": "text/x-python",
   "name": "python",
   "nbconvert_exporter": "python",
   "pygments_lexer": "ipython3",
   "version": "3.12.0"
  }
 },
 "nbformat": 4,
 "nbformat_minor": 5
}
